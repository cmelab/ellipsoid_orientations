{
 "cells": [
  {
   "cell_type": "code",
   "execution_count": 3,
   "id": "c61e808f-795e-4952-b73f-e7b202eaa631",
   "metadata": {},
   "outputs": [],
   "source": [
    "import os\n",
    "import numpy as np\n",
    "import rowan\n",
    "import hoomd\n",
    "import rowan\n",
    "import pickle\n",
    "import PIL\n",
    "import fresnel\n",
    "import cv2\n",
    "from cmeutils.visualize import FresnelGSD\n",
    "from src.rigid_simulation import create_rigid_simulation, rigid_energy_forces\n",
    "from src.quaternions import rotate_quaternion, dr_orientation_angles"
   ]
  },
  {
   "cell_type": "code",
   "execution_count": 4,
   "id": "efe329e5-45bb-4ed1-a160-af41350f53b7",
   "metadata": {},
   "outputs": [],
   "source": [
    "n_rigids = 2\n",
    "rel_const_pos = np.load('../assets/rel_const_pos.npy')\n",
    "init_gsd = '../assets/rigid_init_2.gsd'\n",
    "with open('../assets/pps_ff.pkl', 'rb') as f:\n",
    "    pps_ff = pickle.load(f)\n"
   ]
  },
  {
   "cell_type": "code",
   "execution_count": 5,
   "id": "53c10dd6-ccaa-4d0a-9f5c-8a58b1d91452",
   "metadata": {},
   "outputs": [
    {
     "name": "stdout",
     "output_type": "stream",
     "text": [
      "0.02\n"
     ]
    }
   ],
   "source": [
    "R_range = [0.5, 4.5]\n",
    "R_split = 200\n",
    "R_step = (R_range[1] - R_range[0])/R_split\n",
    "print(R_step)\n",
    "first_rigid_pos = [-1, 0, 0]\n",
    "second_rigid_pos = []\n",
    "for i in range(R_split):\n",
    "    second_rigid_pos.append([first_rigid_pos[0] +  (0.5 + R_step * i), 0. , 0.])"
   ]
  },
  {
   "cell_type": "markdown",
   "id": "b92d8d0a-bfea-493d-86a9-5ceca7aa1cae",
   "metadata": {},
   "source": [
    "### 1. side-to-side with S aligned (tail-tail)"
   ]
  },
  {
   "cell_type": "code",
   "execution_count": 121,
   "id": "329b228a-e50e-4235-af7f-3c8db63ce6c4",
   "metadata": {},
   "outputs": [],
   "source": [
    "logs = {}\n",
    "pos1 = np.array(first_rigid_pos)\n",
    "second_rigid_pos = np.asarray(second_rigid_pos)"
   ]
  },
  {
   "cell_type": "code",
   "execution_count": 122,
   "id": "be3feda9-75f6-47fa-be68-65fe44a04fa4",
   "metadata": {},
   "outputs": [],
   "source": [
    "q1 = [1, 0, 0, 0]\n",
    "q2= [1, 0, 0,0]\n",
    "r = []\n",
    "forces = []\n",
    "energies = []\n",
    "for pos2 in second_rigid_pos:\n",
    "    rigid_simulation = create_rigid_simulation(orientations=[q1, q2], positions=[pos1, pos2],\n",
    "                                               n_rigids=n_rigids, rel_const_pos=rel_const_pos,\n",
    "                                              pps_ff=pps_ff, init_gsd=init_gsd)\n",
    "    energy, force = rigid_energy_forces(rigid_simulation, n_rigids)\n",
    "    r.append(np.around(np.linalg.norm(pos2-pos1), 3))\n",
    "    forces.append(force)\n",
    "    energies.append(energy)\n",
    "logs['side-side-tail-tail'] = {'dr': r, \n",
    "                         'q1': q1,\n",
    "                         'q2' : q2,\n",
    "                         'energy': energies,\n",
    "                         'forces': forces\n",
    "                        }"
   ]
  },
  {
   "cell_type": "markdown",
   "id": "b3f03b3f-4192-4833-a019-4fe1bdd8c4c8",
   "metadata": {},
   "source": [
    "### 2.side-to-side with S opposite (tail-head)"
   ]
  },
  {
   "cell_type": "code",
   "execution_count": 123,
   "id": "70e5024b-82e4-48de-83ec-8a0875b6a37f",
   "metadata": {},
   "outputs": [],
   "source": [
    "q1 = [1, 0, 0, 0]\n",
    "q2= rotate_quaternion(q1, theta=np.pi, axis='x')\n",
    "r = []\n",
    "forces = []\n",
    "energies = []\n",
    "for pos2 in second_rigid_pos:\n",
    "    rigid_simulation = create_rigid_simulation(orientations=[q1, q2], positions=[pos1, pos2],\n",
    "                                               n_rigids=n_rigids, rel_const_pos=rel_const_pos,\n",
    "                                              pps_ff=pps_ff, init_gsd=init_gsd)\n",
    "    energy, force = rigid_energy_forces(rigid_simulation, n_rigids)\n",
    "    r.append(np.around(np.linalg.norm(pos2-pos1), 3))\n",
    "    forces.append(force)\n",
    "    energies.append(energy)\n",
    "logs['side-side-tail-head'] = {'dr': r, \n",
    "                         'q1': q1,\n",
    "                         'q2' : q2,\n",
    "                         'energy': energies,\n",
    "                         'forces': forces\n",
    "                        }"
   ]
  },
  {
   "cell_type": "markdown",
   "id": "cb21cdae-9283-4ca5-b5e8-f791c1c70625",
   "metadata": {},
   "source": [
    "### 3. face-to-face S aligned (tail-tail)"
   ]
  },
  {
   "cell_type": "code",
   "execution_count": 124,
   "id": "80e06e95-0b08-4d38-ad9c-4a5c5c91b7ca",
   "metadata": {},
   "outputs": [],
   "source": [
    "q1 = rotate_quaternion([1, 0, 0, 0], theta=np.pi/2, axis='z')\n",
    "q2= rotate_quaternion([1, 0, 0, 0], theta=np.pi/2, axis='z')\n",
    "r = []\n",
    "forces = []\n",
    "energies = []\n",
    "for pos2 in second_rigid_pos:\n",
    "    rigid_simulation = create_rigid_simulation(orientations=[q1, q2], positions=[pos1, pos2],\n",
    "                                               n_rigids=n_rigids, rel_const_pos=rel_const_pos,\n",
    "                                              pps_ff=pps_ff, init_gsd=init_gsd)\n",
    "    energy, force = rigid_energy_forces(rigid_simulation, n_rigids)\n",
    "    r.append(np.around(np.linalg.norm(pos2-pos1), 3))\n",
    "    forces.append(force)\n",
    "    energies.append(energy)\n",
    "logs['face-face-tail-tail'] = {'dr': r, \n",
    "                         'q1': q1,\n",
    "                         'q2' : q2,\n",
    "                         'energy': energies,\n",
    "                         'forces': forces\n",
    "                        }"
   ]
  },
  {
   "cell_type": "markdown",
   "id": "d3ffa92e-7855-4501-ad00-90b8fe5e7deb",
   "metadata": {},
   "source": [
    "### 4. face-to-face S opposite (tail-head)"
   ]
  },
  {
   "cell_type": "code",
   "execution_count": 125,
   "id": "0157572b-b9fa-4035-93d6-52808ec98f00",
   "metadata": {},
   "outputs": [],
   "source": [
    "q1 = rotate_quaternion([1, 0, 0, 0], theta=np.pi/2, axis='z')\n",
    "q2= rotate_quaternion(q1, theta=np.pi, axis='x')\n",
    "r = []\n",
    "forces = []\n",
    "energies = []\n",
    "for pos2 in second_rigid_pos:\n",
    "    rigid_simulation = create_rigid_simulation(orientations=[q1, q2], positions=[pos1, pos2],\n",
    "                                               n_rigids=n_rigids, rel_const_pos=rel_const_pos,\n",
    "                                              pps_ff=pps_ff, init_gsd=init_gsd)\n",
    "    energy, force = rigid_energy_forces(rigid_simulation, n_rigids)\n",
    "    r.append(np.around(np.linalg.norm(pos2-pos1), 3))\n",
    "    forces.append(force)\n",
    "    energies.append(energy)\n",
    "logs['face-face-tail-head'] = {'dr': r, \n",
    "                         'q1': q1,\n",
    "                         'q2' : q2,\n",
    "                         'energy': energies,\n",
    "                         'forces': forces\n",
    "                        }"
   ]
  },
  {
   "cell_type": "markdown",
   "id": "a09c6a44-8738-4f48-a4c8-a041866657df",
   "metadata": {},
   "source": [
    "### 5. side-to-face s aligned (tail-tail)"
   ]
  },
  {
   "cell_type": "code",
   "execution_count": 126,
   "id": "75faa2ff-1b7a-4718-b278-a9372d3031be",
   "metadata": {},
   "outputs": [],
   "source": [
    "q1 = [1, 0, 0, 0]\n",
    "q2= rotate_quaternion(q1, theta=np.pi/2, axis='z')\n",
    "r = []\n",
    "forces = []\n",
    "energies = []\n",
    "for pos2 in second_rigid_pos:\n",
    "    rigid_simulation = create_rigid_simulation(orientations=[q1, q2], positions=[pos1, pos2],\n",
    "                                               n_rigids=n_rigids, rel_const_pos=rel_const_pos,\n",
    "                                              pps_ff=pps_ff, init_gsd=init_gsd)\n",
    "    energy, force = rigid_energy_forces(rigid_simulation, n_rigids)\n",
    "    r.append(np.around(np.linalg.norm(pos2-pos1), 3))\n",
    "    forces.append(force)\n",
    "    energies.append(energy)\n",
    "logs['side-face-tail-tail'] = {'dr': r, \n",
    "                         'q1': q1,\n",
    "                         'q2' : q2,\n",
    "                         'energy': energies,\n",
    "                         'forces': forces\n",
    "                        }"
   ]
  },
  {
   "cell_type": "markdown",
   "id": "19c5047a-777d-49f3-838d-df3fbd9bb410",
   "metadata": {},
   "source": [
    "### 6. side-to-face s opposite (tail-head)"
   ]
  },
  {
   "cell_type": "code",
   "execution_count": 127,
   "id": "c32992fe-c491-499f-800a-46d7d7be947b",
   "metadata": {},
   "outputs": [],
   "source": [
    "q1 = [1, 0, 0, 0]\n",
    "q2= rotate_quaternion(rotate_quaternion(q1, theta=np.pi/2, axis='z'), theta=np.pi, axis='x')\n",
    "r = []\n",
    "forces = []\n",
    "energies = []\n",
    "for pos2 in second_rigid_pos:\n",
    "    rigid_simulation = create_rigid_simulation(orientations=[q1, q2], positions=[pos1, pos2],\n",
    "                                               n_rigids=n_rigids, rel_const_pos=rel_const_pos,\n",
    "                                              pps_ff=pps_ff, init_gsd=init_gsd)\n",
    "    energy, force = rigid_energy_forces(rigid_simulation, n_rigids)\n",
    "    r.append(np.around(np.linalg.norm(pos2-pos1), 3))\n",
    "    forces.append(force)\n",
    "    energies.append(energy)\n",
    "logs['side-face-tail-head'] = {'dr': r, \n",
    "                         'q1': q1,\n",
    "                         'q2' : q2,\n",
    "                         'energy': energies,\n",
    "                         'forces': forces\n",
    "                        }"
   ]
  },
  {
   "cell_type": "markdown",
   "id": "e9f110ad-0a86-4af8-b7e1-4b7c61844eac",
   "metadata": {},
   "source": [
    "### 7. end-to-end s aligned (tail-head)"
   ]
  },
  {
   "cell_type": "code",
   "execution_count": 128,
   "id": "4687ee8d-27ac-4305-8cda-07621365c125",
   "metadata": {},
   "outputs": [],
   "source": [
    "q1 = rotate_quaternion(rotate_quaternion(q=[1, 0, 0, 0], theta=np.pi/2, axis='y'), theta=np.pi/2, axis='x')\n",
    "q2= q1\n",
    "r = []\n",
    "forces = []\n",
    "energies = []\n",
    "for pos2 in second_rigid_pos:\n",
    "    rigid_simulation = create_rigid_simulation(orientations=[q1, q2], positions=[pos1, pos2],\n",
    "                                               n_rigids=n_rigids, rel_const_pos=rel_const_pos,\n",
    "                                              pps_ff=pps_ff, init_gsd=init_gsd)\n",
    "    energy, force = rigid_energy_forces(rigid_simulation, n_rigids)\n",
    "    r.append(np.around(np.linalg.norm(pos2-pos1), 3))\n",
    "    forces.append(force)\n",
    "    energies.append(energy)\n",
    "logs['end-end-tail-head'] = {'dr': r, \n",
    "                         'q1': q1,\n",
    "                         'q2' : q2,\n",
    "                         'energy': energies,\n",
    "                         'forces': forces\n",
    "                        }"
   ]
  },
  {
   "cell_type": "markdown",
   "id": "15c4a738-2cbd-46cc-bbb1-cee4c45a66f1",
   "metadata": {},
   "source": [
    "### 8. end-to-end s opposite (head-head)"
   ]
  },
  {
   "cell_type": "code",
   "execution_count": 129,
   "id": "2032d93a-24a4-445a-b026-ad691c43c4aa",
   "metadata": {},
   "outputs": [],
   "source": [
    "q1 = rotate_quaternion(rotate_quaternion(q=[1, 0, 0, 0], theta=np.pi/2, axis='y'), theta=np.pi/2, axis='x')\n",
    "q2= rotate_quaternion(q1, theta=np.pi, axis='y')\n",
    "r = []\n",
    "forces = []\n",
    "energies = []\n",
    "for pos2 in second_rigid_pos:\n",
    "    rigid_simulation = create_rigid_simulation(orientations=[q1, q2], positions=[pos1, pos2],\n",
    "                                               n_rigids=n_rigids, rel_const_pos=rel_const_pos,\n",
    "                                              pps_ff=pps_ff, init_gsd=init_gsd)\n",
    "    energy, force = rigid_energy_forces(rigid_simulation, n_rigids)\n",
    "    r.append(np.around(np.linalg.norm(pos2-pos1), 3))\n",
    "    forces.append(force)\n",
    "    energies.append(energy)\n",
    "logs['end-end-head-head'] = {'dr': r, \n",
    "                         'q1': q1,\n",
    "                         'q2' : q2,\n",
    "                         'energy': energies,\n",
    "                         'forces': forces\n",
    "                        }"
   ]
  },
  {
   "cell_type": "markdown",
   "id": "62036997-2743-487b-b72a-b62f5bad7a8b",
   "metadata": {},
   "source": [
    "### 9. end-to-end s close (tail-tail)"
   ]
  },
  {
   "cell_type": "code",
   "execution_count": 130,
   "id": "ffc89134-5000-408f-bc38-0c8a1dcdffa2",
   "metadata": {},
   "outputs": [],
   "source": [
    "q2= rotate_quaternion(rotate_quaternion(q=[1, 0, 0, 0], theta=np.pi/2, axis='y'), theta=np.pi/2, axis='x')\n",
    "q1 =  rotate_quaternion(q2, theta=np.pi, axis='y')\n",
    "r = []\n",
    "forces = []\n",
    "energies = []\n",
    "for pos2 in second_rigid_pos:\n",
    "    rigid_simulation = create_rigid_simulation(orientations=[q1, q2], positions=[pos1, pos2],\n",
    "                                               n_rigids=n_rigids, rel_const_pos=rel_const_pos,\n",
    "                                              pps_ff=pps_ff, init_gsd=init_gsd)\n",
    "    energy, force = rigid_energy_forces(rigid_simulation, n_rigids)\n",
    "    r.append(np.around(np.linalg.norm(pos2-pos1), 3))\n",
    "    forces.append(force)\n",
    "    energies.append(energy)\n",
    "logs['end-end-tail-tail'] = {'dr': r, \n",
    "                         'q1': q1,\n",
    "                         'q2' : q2,\n",
    "                         'energy': energies,\n",
    "                         'forces': forces\n",
    "                        }"
   ]
  },
  {
   "cell_type": "markdown",
   "id": "ec84f473-f850-4cbf-a1f6-c680c77a7fd8",
   "metadata": {},
   "source": [
    "### 10. side-to-end s far (tail-head)"
   ]
  },
  {
   "cell_type": "code",
   "execution_count": 131,
   "id": "021e249c-ad49-4a69-825a-dbaa1bc65ab4",
   "metadata": {},
   "outputs": [],
   "source": [
    "q1 = rotate_quaternion(rotate_quaternion(q=[1, 0, 0, 0], theta=np.pi/2, axis='y'), theta=np.pi/2, axis='x')\n",
    "q2= [1, 0, 0, 0]\n",
    "r = []\n",
    "forces = []\n",
    "energies = []\n",
    "for pos2 in second_rigid_pos:\n",
    "    rigid_simulation = create_rigid_simulation(orientations=[q1, q2], positions=[pos1, pos2],\n",
    "                                               n_rigids=n_rigids, rel_const_pos=rel_const_pos,\n",
    "                                              pps_ff=pps_ff, init_gsd=init_gsd)\n",
    "    energy, force = rigid_energy_forces(rigid_simulation, n_rigids)\n",
    "    r.append(np.around(np.linalg.norm(pos2-pos1), 3))\n",
    "    forces.append(force)\n",
    "    energies.append(energy)\n",
    "logs['side-end-tail-head'] = {'dr': r, \n",
    "                         'q1': q1,\n",
    "                         'q2' : q2,\n",
    "                         'energy': energies,\n",
    "                         'forces': forces\n",
    "                        }"
   ]
  },
  {
   "cell_type": "markdown",
   "id": "6add2c34-f9ee-4ef3-8ade-9425f6057135",
   "metadata": {},
   "source": [
    "### 11. side-to-end s close (tail-tail)"
   ]
  },
  {
   "cell_type": "code",
   "execution_count": 132,
   "id": "ab5a73cf-2bd6-46ea-9e2b-955f92aded65",
   "metadata": {},
   "outputs": [],
   "source": [
    "q1 = rotate_quaternion(rotate_quaternion(q=[1, 0, 0, 0], theta=np.pi/2, axis='y'), theta=np.pi/2, axis='x')\n",
    "q1 = rotate_quaternion(q1, theta=np.pi, axis='y')\n",
    "q2= [1, 0, 0, 0]\n",
    "r = []\n",
    "forces = []\n",
    "energies = []\n",
    "for pos2 in second_rigid_pos:\n",
    "    rigid_simulation = create_rigid_simulation(orientations=[q1, q2], positions=[pos1, pos2],\n",
    "                                               n_rigids=n_rigids, rel_const_pos=rel_const_pos,\n",
    "                                              pps_ff=pps_ff, init_gsd=init_gsd)\n",
    "    energy, force = rigid_energy_forces(rigid_simulation, n_rigids)\n",
    "    r.append(np.around(np.linalg.norm(pos2-pos1), 3))\n",
    "    forces.append(force)\n",
    "    energies.append(energy)\n",
    "logs['side-end-tail-tail'] = {'dr': r, \n",
    "                         'q1': q1,\n",
    "                         'q2' : q2,\n",
    "                         'energy': energies,\n",
    "                         'forces': forces\n",
    "                        }"
   ]
  },
  {
   "cell_type": "markdown",
   "id": "1b2dfa35-cad2-45e1-9c8e-df77455a025e",
   "metadata": {},
   "source": [
    "### 12. face-to-end s far (tail-head)"
   ]
  },
  {
   "cell_type": "code",
   "execution_count": 133,
   "id": "120613b5-d768-4092-abed-49329571b08a",
   "metadata": {},
   "outputs": [],
   "source": [
    "q1 = rotate_quaternion(rotate_quaternion(q=[1, 0, 0, 0], theta=np.pi/2, axis='y'), theta=np.pi/2, axis='x')\n",
    "q2=  rotate_quaternion([1, 0, 0, 0], theta=np.pi/2, axis='z')\n",
    "r = []\n",
    "forces = []\n",
    "energies = []\n",
    "for pos2 in second_rigid_pos:\n",
    "    rigid_simulation = create_rigid_simulation(orientations=[q1, q2], positions=[pos1, pos2],\n",
    "                                               n_rigids=n_rigids, rel_const_pos=rel_const_pos,\n",
    "                                              pps_ff=pps_ff, init_gsd=init_gsd)\n",
    "    energy, force = rigid_energy_forces(rigid_simulation, n_rigids)\n",
    "    r.append(np.around(np.linalg.norm(pos2-pos1), 3))\n",
    "    forces.append(force)\n",
    "    energies.append(energy)\n",
    "logs['face-end-tail-head'] = {'dr': r, \n",
    "                         'q1': q1,\n",
    "                         'q2' : q2,\n",
    "                         'energy': energies,\n",
    "                         'forces': forces\n",
    "                        }"
   ]
  },
  {
   "cell_type": "markdown",
   "id": "e9cc2e51-fff1-4e86-adda-262e000ad281",
   "metadata": {},
   "source": [
    "### 13. face-to-end s close (tail-tail)"
   ]
  },
  {
   "cell_type": "code",
   "execution_count": 134,
   "id": "2145d0ca-dbba-45bf-8ed2-2d20b4158937",
   "metadata": {},
   "outputs": [],
   "source": [
    "q1 = rotate_quaternion(rotate_quaternion(q=[1, 0, 0, 0], theta=np.pi/2, axis='y'), theta=np.pi/2, axis='x')\n",
    "q1 = rotate_quaternion(q1, theta=np.pi, axis='y')\n",
    "q2 = rotate_quaternion([1, 0, 0, 0], theta=np.pi/2, axis='z')\n",
    "r = []\n",
    "forces = []\n",
    "energies = []\n",
    "for pos2 in second_rigid_pos:\n",
    "    rigid_simulation = create_rigid_simulation(orientations=[q1, q2], positions=[pos1, pos2],\n",
    "                                               n_rigids=n_rigids, rel_const_pos=rel_const_pos,\n",
    "                                              pps_ff=pps_ff, init_gsd=init_gsd)\n",
    "    energy, force = rigid_energy_forces(rigid_simulation, n_rigids)\n",
    "    r.append(np.around(np.linalg.norm(pos2-pos1), 3))\n",
    "    forces.append(force)\n",
    "    energies.append(energy)\n",
    "logs['face-end-tail-tail'] = {'dr': r, \n",
    "                         'q1': q1,\n",
    "                         'q2' : q2,\n",
    "                         'energy': energies,\n",
    "                         'forces': forces\n",
    "                        }"
   ]
  },
  {
   "cell_type": "markdown",
   "id": "09715ebc-7bc1-4257-b17b-09b64442a90b",
   "metadata": {},
   "source": [
    "### Draw R-E plots"
   ]
  },
  {
   "cell_type": "code",
   "execution_count": 136,
   "id": "a70e7c34-7d07-44a6-bc5d-20d1884fe98b",
   "metadata": {},
   "outputs": [],
   "source": [
    "import matplotlib.pyplot as plt\n",
    "from matplotlib.pyplot import cm"
   ]
  },
  {
   "cell_type": "code",
   "execution_count": 137,
   "id": "0ddf9dc6-9e68-4edd-ad96-91e0b6aa8307",
   "metadata": {},
   "outputs": [],
   "source": [
    "color = cm.rainbow(np.linspace(0, 1, 13))"
   ]
  },
  {
   "cell_type": "code",
   "execution_count": 143,
   "id": "bd960b43-68c0-49e8-abc0-ce896f478623",
   "metadata": {},
   "outputs": [],
   "source": [
    "\n",
    "marker = [',', 'v', '+', '.','>',  'o', '*', '^', 'h', 'X', 'd', '<','s']"
   ]
  },
  {
   "cell_type": "code",
   "execution_count": 62,
   "id": "8892b3e1-1724-46d3-a879-5c33afe054db",
   "metadata": {},
   "outputs": [
    {
     "data": {
      "text/plain": [
       "<Figure size 1000x1000 with 0 Axes>"
      ]
     },
     "execution_count": 62,
     "metadata": {},
     "output_type": "execute_result"
    },
    {
     "data": {
      "text/plain": [
       "<Figure size 1000x1000 with 0 Axes>"
      ]
     },
     "metadata": {},
     "output_type": "display_data"
    }
   ],
   "source": [
    "plt.figure(figsize=(10, 10))"
   ]
  },
  {
   "cell_type": "code",
   "execution_count": 144,
   "id": "de4065b4-e3c1-45e4-9dd6-a981e33d8a3f",
   "metadata": {},
   "outputs": [
    {
     "data": {
      "text/plain": [
       "<matplotlib.legend.Legend at 0x7f2f0a51c0b0>"
      ]
     },
     "execution_count": 144,
     "metadata": {},
     "output_type": "execute_result"
    },
    {
     "data": {
      "image/png": "[encoded data removed]",
      "text/plain": [
       "<Figure size 640x480 with 1 Axes>"
      ]
     },
     "metadata": {},
     "output_type": "display_data"
    }
   ],
   "source": [
    "lines = []\n",
    "for i, (k, v) in enumerate(logs.items()):\n",
    "    r = v['dr']\n",
    "    energy = v['energy']\n",
    "    plt.plot(r, np.asarray(energy)/2, label=k, c=color[i], marker=marker[i])\n",
    "    \n",
    "# import matplotlib.lines\n",
    "# from matplotlib.transforms import Bbox, TransformedBbox\n",
    "# from matplotlib.legend_handler import HandlerBase\n",
    "# from matplotlib.image import BboxImage\n",
    "# class HandlerLineImage(HandlerBase):\n",
    "\n",
    "#     def __init__(self, path, space=15, offset = 10 ):\n",
    "#         self.space=space\n",
    "#         self.offset=offset\n",
    "#         self.image_data = plt.imread(path)        \n",
    "#         super(HandlerLineImage, self).__init__()\n",
    "\n",
    "#     def create_artists(self, legend, orig_handle,\n",
    "#                        xdescent, ydescent, width, height, fontsize, trans):\n",
    "\n",
    "#         l = matplotlib.lines.Line2D([xdescent+self.offset,xdescent+(width-self.space)/3.+self.offset],\n",
    "#                                      [ydescent+height/2., ydescent+height/2.])\n",
    "#         l.update_from(orig_handle)\n",
    "#         l.set_clip_on(False)\n",
    "#         l.set_transform(trans)\n",
    "\n",
    "#         bb = Bbox.from_bounds(xdescent +(width+self.space)/3.+self.offset,\n",
    "#                               ydescent,\n",
    "#                               height*self.image_data.shape[1]/self.image_data.shape[0],\n",
    "#                               height)\n",
    "\n",
    "#         tbb = TransformedBbox(bb, trans)\n",
    "#         image = BboxImage(tbb)\n",
    "#         image.set_data(self.image_data)\n",
    "\n",
    "#         self.update_prop(image, orig_handle, legend)\n",
    "#         return [l,image]\n",
    "\n",
    "# handler_map = {}\n",
    "# keys = list(logs.keys())\n",
    "# for i, line in enumerate(lines):\n",
    "#     handler_map[line] = HandlerLineImage(f'snapshots/{keys[i]}.png')\n",
    "plt.ylim(-4.5, 2)\n",
    "plt.xlim(0.75, 3)\n",
    "plt.xlabel('R')\n",
    "plt.ylabel('Potential Energy')\n",
    "plt.legend(\n",
    "   # handler_map=handler_map, \n",
    "   #  handlelength=2, labelspacing=0.0, fontsize=18, borderpad=0.15,  \n",
    "   #  handletextpad=0.2, borderaxespad=0.15,\n",
    "    bbox_to_anchor=(1.5, 0.7))\n"
   ]
  },
  {
   "cell_type": "code",
   "execution_count": null,
   "id": "79559ecf-b14e-41ff-bcf0-3ac12298a772",
   "metadata": {},
   "outputs": [],
   "source": [
    "plt.legend(lines,\n",
    "   handler_map={ line: HandlerLineImage(\"icon1.png\"), line2: HandlerLineImage(\"icon2.png\")}, \n",
    "   handlelength=2, labelspacing=0.0, fontsize=36, borderpad=0.15, loc=2, \n",
    "    handletextpad=0.2, borderaxespad=0.15)"
   ]
  },
  {
   "cell_type": "markdown",
   "id": "9c28a925-4700-42ea-8fef-f0cd0e406f66",
   "metadata": {},
   "source": [
    "### Find Lpar and Lperp"
   ]
  },
  {
   "cell_type": "code",
   "execution_count": 25,
   "id": "183fc5a4-92cf-4e7b-bba8-32d9722867b8",
   "metadata": {},
   "outputs": [],
   "source": [
    "import numpy as np\n",
    "import matplotlib.pyplot as plt\n",
    "from scipy.optimize import curve_fit"
   ]
  },
  {
   "cell_type": "code",
   "execution_count": 26,
   "id": "f4e08c8d-82d6-4d46-bbdd-7b04cd75da0f",
   "metadata": {},
   "outputs": [],
   "source": [
    "def lennard_jones_potential(r, epsilon, sigma):\n",
    "    \"\"\"\n",
    "    Calculate the Lennard-Jones potential for a given distance r.\n",
    "\n",
    "    Parameters:\n",
    "    r (float): Distance between particles\n",
    "    epsilon (float): Depth of the potential well\n",
    "    sigma (float): Finite distance at which the inter-particle potential is zero\n",
    "\n",
    "    Returns:\n",
    "    float: Lennard-Jones potential at distance r\n",
    "    \"\"\"\n",
    "    term1 = (sigma / r) ** 12\n",
    "    term2 = (sigma / r) ** 6\n",
    "    potential = 4 * epsilon * (term1 - term2)\n",
    "    return potential"
   ]
  },
  {
   "cell_type": "markdown",
   "id": "2fc8e205-b088-4a48-bca6-67225472303a",
   "metadata": {},
   "source": [
    "### Case 1: Lpar = avg of end-end sigmas"
   ]
  },
  {
   "cell_type": "code",
   "execution_count": 173,
   "id": "9d55ff5e-5f0a-41c5-b515-4c5e152d4ca1",
   "metadata": {},
   "outputs": [],
   "source": [
    "ydata = np.asarray(logs['face-face-tail-tail']['energy'])\n",
    "xdata = np.asarray(logs['face-face-tail-tail']['dr'])\n",
    "limit_idx = np.where(ydata<5)[0]"
   ]
  },
  {
   "cell_type": "code",
   "execution_count": 174,
   "id": "78a89810-40f4-4fa7-976d-0720b725d183",
   "metadata": {},
   "outputs": [
    {
     "data": {
      "text/plain": [
       "-4.0018322414954035"
      ]
     },
     "execution_count": 174,
     "metadata": {},
     "output_type": "execute_result"
    }
   ],
   "source": [
    "eps = np.min(ydata)/2\n",
    "eps"
   ]
  },
  {
   "cell_type": "code",
   "execution_count": 175,
   "id": "410d3ba4-3655-472a-bb69-8fcab172831c",
   "metadata": {},
   "outputs": [],
   "source": [
    "popt, pcov = curve_fit(lennard_jones_potential, xdata[limit_idx], ydata[limit_idx])"
   ]
  },
  {
   "cell_type": "code",
   "execution_count": 176,
   "id": "4b6f0b17-76c3-4cfd-97c8-a871efc28b10",
   "metadata": {},
   "outputs": [
    {
     "data": {
      "image/png": "[encoded data removed]",
      "text/plain": [
       "<Figure size 640x480 with 1 Axes>"
      ]
     },
     "metadata": {},
     "output_type": "display_data"
    }
   ],
   "source": [
    "# plt.plot(xdata[limit_idx], lennard_jones_potential(xdata[limit_idx], *popt), 'r-',\n",
    "#          label='fit: eps=%5.3f, sigma=%5.3f' % tuple(popt))\n",
    "plt.plot(xdata[limit_idx], ydata[limit_idx], 'b-', label='data')\n",
    "plt.hlines(y=0, xmin=0, xmax=4)\n",
    "plt.xlabel('x')\n",
    "plt.ylabel('y')\n",
    "plt.legend()\n",
    "\n",
    "plt.title('end-end-tail-head')\n",
    "plt.xticks(np.arange(np.min(xdata[limit_idx]), np.max(xdata[limit_idx]), step=0.05), rotation ='vertical') \n",
    "plt.gca().xaxis.grid(True)\n",
    "plt.show()"
   ]
  },
  {
   "cell_type": "code",
   "execution_count": 177,
   "id": "0b26eae9-abf1-443d-baf6-e72f88245522",
   "metadata": {},
   "outputs": [
    {
     "data": {
      "text/plain": [
       "array([0.92, 0.97, 1.02, 1.07, 1.12, 1.17, 1.22, 1.27, 1.32, 1.37, 1.42,\n",
       "       1.47, 1.52, 1.57, 1.62, 1.67, 1.72, 1.77, 1.82, 1.87, 1.92, 1.97,\n",
       "       2.02, 2.07, 2.12, 2.17, 2.22, 2.27, 2.32, 2.37, 2.42, 2.47, 2.52,\n",
       "       2.57, 2.62, 2.67, 2.72, 2.77, 2.82, 2.87, 2.92, 2.97, 3.02, 3.07,\n",
       "       3.12, 3.17, 3.22, 3.27, 3.32, 3.37, 3.42, 3.47, 3.52, 3.57, 3.62,\n",
       "       3.67, 3.72, 3.77, 3.82, 3.87, 3.92, 3.97, 4.02, 4.07, 4.12, 4.17,\n",
       "       4.22, 4.27, 4.32, 4.37, 4.42, 4.47])"
      ]
     },
     "execution_count": 177,
     "metadata": {},
     "output_type": "execute_result"
    }
   ],
   "source": [
    "np.arange(np.min(xdata[limit_idx]), np.max(xdata[limit_idx]), step=0.05)"
   ]
  },
  {
   "cell_type": "code",
   "execution_count": null,
   "id": "a2a8552a-b3d3-445a-bf07-c06e1f63f3bd",
   "metadata": {},
   "outputs": [],
   "source": [
    "-1."
   ]
  }
 ],
 "metadata": {
  "kernelspec": {
   "display_name": "Python 3 (ipykernel)",
   "language": "python",
   "name": "python3"
  },
  "language_info": {
   "codemirror_mode": {
    "name": "ipython",
    "version": 3
   },
   "file_extension": ".py",
   "mimetype": "text/x-python",
   "name": "python",
   "nbconvert_exporter": "python",
   "pygments_lexer": "ipython3",
   "version": "3.12.3"
  }
 },
 "nbformat": 4,
 "nbformat_minor": 5
}
