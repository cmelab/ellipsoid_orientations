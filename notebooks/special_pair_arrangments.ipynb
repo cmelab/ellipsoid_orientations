{
 "cells": [
  {
   "cell_type": "code",
   "execution_count": 1,
   "id": "8bda2699-e541-40ec-a112-5b2cfaac2331",
   "metadata": {},
   "outputs": [],
   "source": [
    "import os\n",
    "import numpy as np\n",
    "import hoomd\n",
    "import rowan\n",
    "import pickle\n",
    "from cmeutils.visualize import FresnelGSD\n",
    "from src.rigid_simulation import create_rigid_simulation, rigid_energy_forces\n",
    "from src.quaternions import rotate_quaternion, dr_orientation_angles"
   ]
  },
  {
   "cell_type": "code",
   "execution_count": 2,
   "id": "1b74ae40-3640-4a55-b7e2-dd1c1272e31f",
   "metadata": {},
   "outputs": [],
   "source": [
    "n_rigids = 2"
   ]
  },
  {
   "cell_type": "code",
   "execution_count": 3,
   "id": "6899dc76-9969-4e3d-95f3-d0c27978313f",
   "metadata": {},
   "outputs": [],
   "source": [
    "rel_const_pos = np.load('../assets/rel_const_pos.npy')\n",
    "init_gsd = '../assets/rigid_init_2.gsd'\n",
    "with open('../assets/pps_ff.pkl', 'rb') as f:\n",
    "    pps_ff = pickle.load(f)"
   ]
  },
  {
   "cell_type": "code",
   "execution_count": 4,
   "id": "4c29b35d-77dd-4765-a26c-eaa9d4dd64cf",
   "metadata": {},
   "outputs": [],
   "source": [
    "gsd_dir = 'snapshots'\n",
    "if not os.path.exists(gsd_dir):\n",
    "    os.mkdir(gsd_dir)"
   ]
  },
  {
   "cell_type": "markdown",
   "id": "1b2a8c83-7854-4f2f-9433-6f45041e8e92",
   "metadata": {},
   "source": [
    "## Ellipsoid Arrangmenets (with constant center-to-center distance R=1.7)"
   ]
  },
  {
   "cell_type": "code",
   "execution_count": 6,
   "id": "ed5d3e48-6bc3-4695-bf94-727d6146e3dc",
   "metadata": {},
   "outputs": [
    {
     "name": "stdout",
     "output_type": "stream",
     "text": [
      "center-to-center distance:  1.7\n"
     ]
    }
   ],
   "source": [
    "rigid_pos = np.array([[-0.85, 0, 0], [0.85, 0, 0]])\n",
    "dr = rigid_pos[0] - rigid_pos[1]\n",
    "R = np.linalg.norm(dr)\n",
    "print('center-to-center distance: ', R)"
   ]
  },
  {
   "cell_type": "code",
   "execution_count": 15,
   "id": "b3fc43fa-c4a2-45e0-9af1-41156d4ab229",
   "metadata": {},
   "outputs": [],
   "source": [
    "logs = {}"
   ]
  },
  {
   "cell_type": "markdown",
   "id": "20e3f675-fa86-4d64-afb3-c5088f4871c2",
   "metadata": {},
   "source": [
    "### 1. side-to-side with S aligned (tail-tail)"
   ]
  },
  {
   "cell_type": "code",
   "execution_count": 16,
   "id": "54203302-64df-4362-81f2-801ccc38cafe",
   "metadata": {},
   "outputs": [
    {
     "name": "stdout",
     "output_type": "stream",
     "text": [
      "potential energy:  -2.0705250402157604\n",
      "forces:  [ 1.29837254e+00 -2.14121694e-06 -6.30923563e-08]\n"
     ]
    },
    {
     "data": {
      "image/png": "[encoded data removed]",
      "text/plain": [
       "<fresnel.util.ImageArray at 0x7f73ccbe4a40>"
      ]
     },
     "execution_count": 16,
     "metadata": {},
     "output_type": "execute_result"
    }
   ],
   "source": [
    "q1 = [1, 0, 0, 0]\n",
    "q2= [1, 0, 0,0]\n",
    "rigid_simulation = create_rigid_simulation(orientations=[q1, q2], positions=rigid_pos,\n",
    "                                           n_rigids=n_rigids, rel_const_pos=rel_const_pos,\n",
    "                                          pps_ff=pps_ff, init_gsd=init_gsd)\n",
    "energy, forces = rigid_energy_forces(rigid_simulation, n_rigids)\n",
    "print('potential energy: ', energy)\n",
    "print('forces: ', forces[0])\n",
    "logs['side-side-tail-tail'] = {'dr': dr, \n",
    "                         'q1': q1,\n",
    "                         'q2' : q2,\n",
    "                         'energy': energy,\n",
    "                         'forces': forces\n",
    "                        }\n",
    "hoomd.write.GSD.write(rigid_simulation.state, filename=f\"{gsd_dir}/side-side-tail-tail.gsd\")\n",
    "# looking down the y axis\n",
    "sim_viewer = FresnelGSD(gsd_file=f\"{gsd_dir}/side-side-tail-tail.gsd\", view_axis=(0, 1, 0), frame=-1, height=20,\n",
    "                       color_dict={\"sh\": (0.42,0.267,1), \"ca\":(0.5, 0.5, 0.5), \"rigid\":(0.1, 0.8, 0.)}\n",
    "                    )\n",
    "sim_viewer.view()"
   ]
  },
  {
   "cell_type": "markdown",
   "id": "77d74da3-513a-4823-a362-c6b4699a8df9",
   "metadata": {},
   "source": [
    "### 2. side-to-side with S opposite (tail-head)"
   ]
  },
  {
   "cell_type": "code",
   "execution_count": 17,
   "id": "7118bcb8-8c51-46f2-a21c-a843dd6ae99a",
   "metadata": {},
   "outputs": [
    {
     "name": "stdout",
     "output_type": "stream",
     "text": [
      "potential energy:  -2.2086757854063634\n",
      "forces:  [ 4.95977547e+00  9.04878750e-04 -2.16035501e-02]\n"
     ]
    },
    {
     "data": {
      "image/png": "[encoded data removed]",
      "text/plain": [
       "<fresnel.util.ImageArray at 0x7f73bcc5d010>"
      ]
     },
     "execution_count": 17,
     "metadata": {},
     "output_type": "execute_result"
    }
   ],
   "source": [
    "q1 = [1, 0, 0, 0]\n",
    "q2= rotate_quaternion(q1, theta=np.pi, axis='x')\n",
    "rigid_simulation = create_rigid_simulation(orientations=[q1, q2], positions=rigid_pos,\n",
    "                                           n_rigids=n_rigids, rel_const_pos=rel_const_pos,\n",
    "                                          pps_ff=pps_ff, init_gsd=init_gsd)\n",
    "energy, forces = rigid_energy_forces(rigid_simulation, n_rigids)\n",
    "print('potential energy: ', energy)\n",
    "print('forces: ', forces[0])\n",
    "logs['side-side-tail-head'] = {'dr': dr, \n",
    "                         'q1': q1,\n",
    "                         'q2' : q2,\n",
    "                         'energy': energy,\n",
    "                         'forces': forces\n",
    "                        }\n",
    "hoomd.write.GSD.write(rigid_simulation.state, filename=f\"{gsd_dir}/side-side-tail-head.gsd\")\n",
    "# looking down the y axis\n",
    "sim_viewer = FresnelGSD(gsd_file=f\"{gsd_dir}/side-side-tail-head.gsd\", view_axis=(0, 1, 0), frame=-1, height=20,\n",
    "                       color_dict={\"sh\": (0.42,0.267,1), \"ca\":(0.5, 0.5, 0.5), \"rigid\":(0.1, 0.8, 0.)}\n",
    "                    )\n",
    "sim_viewer.view()\n"
   ]
  },
  {
   "cell_type": "markdown",
   "id": "e30ed0a5-7f34-4509-87c1-5ae1f9998eb2",
   "metadata": {},
   "source": [
    "### 3. face-to-face S aligned (tail-tail)"
   ]
  },
  {
   "cell_type": "code",
   "execution_count": 18,
   "id": "6f4102da-12ad-42e6-949a-baa34414f4ba",
   "metadata": {},
   "outputs": [
    {
     "name": "stdout",
     "output_type": "stream",
     "text": [
      "potential energy:  -1.1891979798755568\n",
      "forces:  [ 3.64676078e+00 -9.35827166e-07 -7.34345221e-02]\n"
     ]
    },
    {
     "data": {
      "image/png": "[encoded data removed]",
      "text/plain": [
       "<fresnel.util.ImageArray at 0x7f73ceaf2240>"
      ]
     },
     "execution_count": 18,
     "metadata": {},
     "output_type": "execute_result"
    }
   ],
   "source": [
    "q1 = rotate_quaternion([1, 0, 0, 0], theta=np.pi/2, axis='z')\n",
    "q2= rotate_quaternion([1, 0, 0, 0], theta=np.pi/2, axis='z')\n",
    "rigid_simulation = create_rigid_simulation(orientations=[q1, q2], positions=rigid_pos,\n",
    "                                           n_rigids=n_rigids, rel_const_pos=rel_const_pos,\n",
    "                                          pps_ff=pps_ff, init_gsd=init_gsd)\n",
    "energy, forces = rigid_energy_forces(rigid_simulation, n_rigids)\n",
    "print('potential energy: ', energy)\n",
    "print('forces: ', forces[0])\n",
    "logs['face-face-tail-tail'] = {'dr': dr, \n",
    "                         'q1': q1,\n",
    "                         'q2' : q2,\n",
    "                         'energy': energy,\n",
    "                         'forces': forces\n",
    "                        }\n",
    "hoomd.write.GSD.write(rigid_simulation.state, filename=f\"{gsd_dir}/face-face-tail-tail.gsd\")\n",
    "# looking down the y axis\n",
    "sim_viewer = FresnelGSD(gsd_file=f\"{gsd_dir}/face-face-tail-tail.gsd\", view_axis=(0, 1, 0), frame=-1, height=20,\n",
    "                       color_dict={\"sh\": (0.42,0.267,1), \"ca\":(0.5, 0.5, 0.5), \"rigid\":(0.1, 0.8, 0.)}\n",
    "                    )\n",
    "sim_viewer.view()"
   ]
  },
  {
   "cell_type": "markdown",
   "id": "ed5ff0ed-7d12-4341-89e5-5e9f91b7951f",
   "metadata": {},
   "source": [
    "### 4. face-to-face S opposite (tail-head)"
   ]
  },
  {
   "cell_type": "code",
   "execution_count": 19,
   "id": "a21c4c71-8b18-4bd9-ad75-a1ca60261ca6",
   "metadata": {},
   "outputs": [
    {
     "name": "stdout",
     "output_type": "stream",
     "text": [
      "potential energy:  -1.1896723436713859\n",
      "forces:  [ 3.64506688e+00 -1.67152831e-06  1.87564194e-02]\n"
     ]
    },
    {
     "data": {
      "image/png": "[encoded data removed]",
      "text/plain": [
       "<fresnel.util.ImageArray at 0x7f73bcae83e0>"
      ]
     },
     "execution_count": 19,
     "metadata": {},
     "output_type": "execute_result"
    }
   ],
   "source": [
    "q1 = rotate_quaternion([1, 0, 0, 0], theta=np.pi/2, axis='z')\n",
    "q2= rotate_quaternion(q1, theta=np.pi, axis='x')\n",
    "rigid_simulation = create_rigid_simulation(orientations=[q1, q2], positions=rigid_pos,\n",
    "                                           n_rigids=n_rigids, rel_const_pos=rel_const_pos,\n",
    "                                          pps_ff=pps_ff, init_gsd=init_gsd)\n",
    "energy, forces = rigid_energy_forces(rigid_simulation, n_rigids)\n",
    "print('potential energy: ', energy)\n",
    "print('forces: ', forces[0])\n",
    "logs['face-face-tail-head'] = {'dr': dr, \n",
    "                         'q1': q1,\n",
    "                         'q2' : q2,\n",
    "                         'energy': energy,\n",
    "                         'forces': forces\n",
    "                        }\n",
    "hoomd.write.GSD.write(rigid_simulation.state, filename=f\"{gsd_dir}/face-face-tail-head.gsd\")\n",
    "# looking down the y axis\n",
    "sim_viewer = FresnelGSD(gsd_file=f\"{gsd_dir}/face-face-tail-head.gsd\", view_axis=(0, 1, 0), frame=-1, height=20,\n",
    "                       color_dict={\"sh\": (0.42,0.267,1), \"ca\":(0.5, 0.5, 0.5), \"rigid\":(0.1, 0.8, 0.)}\n",
    "                    )\n",
    "sim_viewer.view()"
   ]
  },
  {
   "cell_type": "markdown",
   "id": "8102835f-2503-4412-b7f4-511bb118ce65",
   "metadata": {},
   "source": [
    "### 5. side-to-face s aligned (tail-tail)"
   ]
  },
  {
   "cell_type": "code",
   "execution_count": 20,
   "id": "2134b564-fd87-4cf6-b424-fc78d5e5e220",
   "metadata": {},
   "outputs": [
    {
     "name": "stdout",
     "output_type": "stream",
     "text": [
      "potential energy:  -1.6676152292679463\n",
      "forces:  [ 5.41901711  0.00764251 -0.24123866]\n"
     ]
    },
    {
     "data": {
      "image/png": "[encoded data removed]",
      "text/plain": [
       "<fresnel.util.ImageArray at 0x7f73bcc9e570>"
      ]
     },
     "execution_count": 20,
     "metadata": {},
     "output_type": "execute_result"
    }
   ],
   "source": [
    "q1 = [1, 0, 0, 0]\n",
    "q2= rotate_quaternion(q1, theta=np.pi/2, axis='z')\n",
    "rigid_simulation = create_rigid_simulation(orientations=[q1, q2], positions=rigid_pos,\n",
    "                                           n_rigids=n_rigids, rel_const_pos=rel_const_pos,\n",
    "                                          pps_ff=pps_ff, init_gsd=init_gsd)\n",
    "energy, forces = rigid_energy_forces(rigid_simulation, n_rigids)\n",
    "print('potential energy: ', energy)\n",
    "print('forces: ', forces[0])\n",
    "logs['side-face-tail-tail'] = {'dr': dr, \n",
    "                         'q1': q1,\n",
    "                         'q2' : q2,\n",
    "                         'energy': energy,\n",
    "                         'forces': forces\n",
    "                        }\n",
    "hoomd.write.GSD.write(rigid_simulation.state, filename=f\"{gsd_dir}/side-face-tail-tail.gsd\")\n",
    "# looking down the y axis\n",
    "sim_viewer = FresnelGSD(gsd_file=f\"{gsd_dir}/side-face-tail-tail.gsd\", view_axis=(0, 1, 0), frame=-1, height=20,\n",
    "                       color_dict={\"sh\": (0.42,0.267,1), \"ca\":(0.5, 0.5, 0.5), \"rigid\":(0.1, 0.8, 0.)}\n",
    "                    )\n",
    "sim_viewer.view()"
   ]
  },
  {
   "cell_type": "markdown",
   "id": "28555a2b-ee49-4e69-9032-14e7101f1b58",
   "metadata": {},
   "source": [
    "### 6. side-to-face s opposite (tail-head)"
   ]
  },
  {
   "cell_type": "code",
   "execution_count": 21,
   "id": "52783374-2502-4114-b33d-ac99297452ba",
   "metadata": {},
   "outputs": [
    {
     "name": "stdout",
     "output_type": "stream",
     "text": [
      "potential energy:  -1.687354459389348\n",
      "forces:  [ 5.4715061   0.01525854 -0.06549757]\n"
     ]
    },
    {
     "data": {
      "image/png": "[encoded data removed]",
      "text/plain": [
       "<fresnel.util.ImageArray at 0x7f73cccd1ac0>"
      ]
     },
     "execution_count": 21,
     "metadata": {},
     "output_type": "execute_result"
    }
   ],
   "source": [
    "q1 = [1, 0, 0, 0]\n",
    "q2= rotate_quaternion(rotate_quaternion(q1, theta=np.pi/2, axis='z'), theta=np.pi, axis='x')\n",
    "rigid_simulation = create_rigid_simulation(orientations=[q1, q2], positions=rigid_pos,\n",
    "                                           n_rigids=n_rigids, rel_const_pos=rel_const_pos,\n",
    "                                          pps_ff=pps_ff, init_gsd=init_gsd)\n",
    "energy, forces = rigid_energy_forces(rigid_simulation, n_rigids)\n",
    "print('potential energy: ', energy)\n",
    "print('forces: ', forces[0])\n",
    "logs['side-face-tail-head'] = {'dr': dr, \n",
    "                         'q1': q1,\n",
    "                         'q2' : q2,\n",
    "                         'energy': energy,\n",
    "                         'forces': forces\n",
    "                        }\n",
    "hoomd.write.GSD.write(rigid_simulation.state, filename=f\"{gsd_dir}/side-face-tail-head.gsd\")\n",
    "# looking down the y axis\n",
    "sim_viewer = FresnelGSD(gsd_file=f\"{gsd_dir}/side-face-tail-head.gsd\", view_axis=(0, 1, 0), frame=-1, height=20,\n",
    "                       color_dict={\"sh\": (0.42,0.267,1), \"ca\":(0.5, 0.5, 0.5), \"rigid\":(0.1, 0.8, 0.)}\n",
    "                    )\n",
    "sim_viewer.view()"
   ]
  },
  {
   "cell_type": "markdown",
   "id": "33c06ed6-4959-4be1-9119-535f2d025f99",
   "metadata": {},
   "source": [
    "### 7. end-to-end s aligned (tail-head)"
   ]
  },
  {
   "cell_type": "code",
   "execution_count": 22,
   "id": "2adc6ab3-6fb2-44ec-91c7-ee8b74a08911",
   "metadata": {},
   "outputs": [
    {
     "name": "stdout",
     "output_type": "stream",
     "text": [
      "potential energy:  38341.14384760931\n",
      "forces:  [-1.06692961e+06 -7.32145178e-04 -1.23731220e+05]\n"
     ]
    },
    {
     "data": {
      "image/png": "[encoded data removed]",
      "text/plain": [
       "<fresnel.util.ImageArray at 0x7f73bcc98fb0>"
      ]
     },
     "execution_count": 22,
     "metadata": {},
     "output_type": "execute_result"
    }
   ],
   "source": [
    "q1 = rotate_quaternion(rotate_quaternion(q=[1, 0, 0, 0], theta=np.pi/2, axis='y'), theta=np.pi/2, axis='x')\n",
    "q2= q1\n",
    "rigid_simulation = create_rigid_simulation(orientations=[q1, q2], positions=rigid_pos,\n",
    "                                           n_rigids=n_rigids, rel_const_pos=rel_const_pos,\n",
    "                                          pps_ff=pps_ff, init_gsd=init_gsd)\n",
    "energy, forces = rigid_energy_forces(rigid_simulation, n_rigids)\n",
    "print('potential energy: ', energy)\n",
    "print('forces: ', forces[0])\n",
    "logs['end-end-tail-head'] = {'dr': dr, \n",
    "                         'q1': q1,\n",
    "                         'q2' : q2,\n",
    "                         'energy': energy,\n",
    "                         'forces': forces\n",
    "                        }\n",
    "hoomd.write.GSD.write(rigid_simulation.state, filename=f\"{gsd_dir}/end-end-tail-head.gsd\")\n",
    "# looking down the y axis\n",
    "sim_viewer = FresnelGSD(gsd_file=f\"{gsd_dir}/end-end-tail-head.gsd\", view_axis=(0, 1, 0), frame=-1, height=20,\n",
    "                       color_dict={\"sh\": (0.42,0.267,1), \"ca\":(0.5, 0.5, 0.5), \"rigid\":(0.1, 0.8, 0.)}\n",
    "                    )\n",
    "sim_viewer.view()"
   ]
  },
  {
   "cell_type": "markdown",
   "id": "d80c73d8-7709-4dd3-aeb0-ecafdbc86799",
   "metadata": {},
   "source": [
    "### 8. end-to-end s opposite (head-head)"
   ]
  },
  {
   "cell_type": "code",
   "execution_count": 23,
   "id": "7e42800a-a4b4-4815-876e-c10eed401d06",
   "metadata": {},
   "outputs": [
    {
     "name": "stdout",
     "output_type": "stream",
     "text": [
      "potential energy:  31277.388217285086\n",
      "forces:  [-9.25575528e+05  4.55884219e-11 -1.17082471e+05]\n"
     ]
    },
    {
     "data": {
      "image/png": "[encoded data removed]",
      "text/plain": [
       "<fresnel.util.ImageArray at 0x7f73cf17ef60>"
      ]
     },
     "execution_count": 23,
     "metadata": {},
     "output_type": "execute_result"
    }
   ],
   "source": [
    "q1 = rotate_quaternion(rotate_quaternion(q=[1, 0, 0, 0], theta=np.pi/2, axis='y'), theta=np.pi/2, axis='x')\n",
    "q2= rotate_quaternion(q1, theta=np.pi, axis='y')\n",
    "rigid_simulation = create_rigid_simulation(orientations=[q1, q2], positions=rigid_pos,\n",
    "                                           n_rigids=n_rigids, rel_const_pos=rel_const_pos,\n",
    "                                          pps_ff=pps_ff, init_gsd=init_gsd)\n",
    "energy, forces = rigid_energy_forces(rigid_simulation, n_rigids)\n",
    "print('potential energy: ', energy)\n",
    "print('forces: ', forces[0])\n",
    "logs['end-end-head-head'] = {'dr': dr, \n",
    "                         'q1': q1,\n",
    "                         'q2' : q2,\n",
    "                         'energy': energy,\n",
    "                         'forces': forces\n",
    "                        }\n",
    "hoomd.write.GSD.write(rigid_simulation.state, filename=f\"{gsd_dir}/end-end-head-head.gsd\")\n",
    "# looking down the y axis\n",
    "sim_viewer = FresnelGSD(gsd_file=f\"{gsd_dir}/end-end-head-head.gsd\", view_axis=(0, 1, 0), frame=-1, height=20,\n",
    "                       color_dict={\"sh\": (0.42,0.267,1), \"ca\":(0.5, 0.5, 0.5), \"rigid\":(0.1, 0.8, 0.)}\n",
    "                    )\n",
    "sim_viewer.view()"
   ]
  },
  {
   "cell_type": "markdown",
   "id": "ceef6130-9d9a-4cf7-a01d-d3ab8e4cc3f8",
   "metadata": {},
   "source": [
    "### 9. end-to-end s close (tail-tail)"
   ]
  },
  {
   "cell_type": "code",
   "execution_count": 24,
   "id": "4b6b8db5-f6fa-4ef0-974d-9e7467c990ee",
   "metadata": {},
   "outputs": [
    {
     "name": "stdout",
     "output_type": "stream",
     "text": [
      "potential energy:  49094.477786340154\n",
      "forces:  [-1.29066533e+06  4.66204575e-11 -1.37785364e+05]\n"
     ]
    },
    {
     "data": {
      "image/png": "[encoded data removed]",
      "text/plain": [
       "<fresnel.util.ImageArray at 0x7f73bcaecec0>"
      ]
     },
     "execution_count": 24,
     "metadata": {},
     "output_type": "execute_result"
    }
   ],
   "source": [
    "q2= rotate_quaternion(rotate_quaternion(q=[1, 0, 0, 0], theta=np.pi/2, axis='y'), theta=np.pi/2, axis='x')\n",
    "q1 =  rotate_quaternion(q2, theta=np.pi, axis='y')\n",
    "rigid_simulation = create_rigid_simulation(orientations=[q1, q2], positions=rigid_pos,\n",
    "                                           n_rigids=n_rigids, rel_const_pos=rel_const_pos,\n",
    "                                          pps_ff=pps_ff, init_gsd=init_gsd)\n",
    "energy, forces = rigid_energy_forces(rigid_simulation, n_rigids)\n",
    "print('potential energy: ', energy)\n",
    "print('forces: ', forces[0])\n",
    "logs['end-end-tail-tail'] = {'dr': dr, \n",
    "                         'q1': q1,\n",
    "                         'q2' : q2,\n",
    "                         'energy': energy,\n",
    "                         'forces': forces\n",
    "                        }\n",
    "hoomd.write.GSD.write(rigid_simulation.state, filename=f\"{gsd_dir}/end-end-tail-tail.gsd\")\n",
    "# looking down the y axis\n",
    "sim_viewer = FresnelGSD(gsd_file=f\"{gsd_dir}/end-end-tail-tail.gsd\", view_axis=(0, 1, 0), frame=-1, height=20,\n",
    "                       color_dict={\"sh\": (0.42,0.267,1), \"ca\":(0.5, 0.5, 0.5), \"rigid\":(0.1, 0.8, 0.)}\n",
    "                    )\n",
    "sim_viewer.view()"
   ]
  },
  {
   "cell_type": "markdown",
   "id": "4b8c82b2-2030-4940-8104-79a6b1b812b8",
   "metadata": {},
   "source": [
    "### 10. side-to-end s far (tail-head)"
   ]
  },
  {
   "cell_type": "code",
   "execution_count": 25,
   "id": "a5e4a9e6-8a7b-4c6e-bc23-883ff191cbcd",
   "metadata": {},
   "outputs": [
    {
     "name": "stdout",
     "output_type": "stream",
     "text": [
      "potential energy:  24.28783905361299\n",
      "forces:  [-483.26817337    2.32881414  -80.79456558]\n"
     ]
    },
    {
     "data": {
      "image/png": "[encoded data removed]",
      "text/plain": [
       "<fresnel.util.ImageArray at 0x7f73bcae9a30>"
      ]
     },
     "execution_count": 25,
     "metadata": {},
     "output_type": "execute_result"
    }
   ],
   "source": [
    "q1 = rotate_quaternion(rotate_quaternion(q=[1, 0, 0, 0], theta=np.pi/2, axis='y'), theta=np.pi/2, axis='x')\n",
    "q2= [1, 0, 0, 0]\n",
    "rigid_simulation = create_rigid_simulation(orientations=[q1, q2], positions=rigid_pos,\n",
    "                                           n_rigids=n_rigids, rel_const_pos=rel_const_pos,\n",
    "                                          pps_ff=pps_ff, init_gsd=init_gsd)\n",
    "energy, forces = rigid_energy_forces(rigid_simulation, n_rigids)\n",
    "print('potential energy: ', energy)\n",
    "print('forces: ', forces[0])\n",
    "logs['side-end-tail-head'] = {'dr': dr, \n",
    "                         'q1': q1,\n",
    "                         'q2' : q2,\n",
    "                         'energy': energy,\n",
    "                         'forces': forces\n",
    "                        }\n",
    "hoomd.write.GSD.write(rigid_simulation.state, filename=f\"{gsd_dir}/side-end-tail-head.gsd\")\n",
    "# looking down the y axis\n",
    "sim_viewer = FresnelGSD(gsd_file=f\"{gsd_dir}/side-end-tail-head.gsd\", view_axis=(0, 1, 0), frame=-1, height=20,\n",
    "                       color_dict={\"sh\": (0.42,0.267,1), \"ca\":(0.5, 0.5, 0.5), \"rigid\":(0.1, 0.8, 0.)}\n",
    "                    )\n",
    "sim_viewer.view()"
   ]
  },
  {
   "cell_type": "markdown",
   "id": "3e84b77e-5a2e-4d6d-bace-1a793e2f95ab",
   "metadata": {},
   "source": [
    "### 11. side-to-end s close (tail-tail)"
   ]
  },
  {
   "cell_type": "code",
   "execution_count": 27,
   "id": "08bbc5ba-5c06-4ee9-8608-c9bccc8b4324",
   "metadata": {},
   "outputs": [
    {
     "name": "stdout",
     "output_type": "stream",
     "text": [
      "potential energy:  42.15897273821685\n",
      "forces:  [-785.27745893    3.98040986 -128.94753169]\n"
     ]
    },
    {
     "data": {
      "image/png": "[encoded data removed]",
      "text/plain": [
       "<fresnel.util.ImageArray at 0x7f73bcaedfd0>"
      ]
     },
     "execution_count": 27,
     "metadata": {},
     "output_type": "execute_result"
    }
   ],
   "source": [
    "q1 = rotate_quaternion(rotate_quaternion(q=[1, 0, 0, 0], theta=np.pi/2, axis='y'), theta=np.pi/2, axis='x')\n",
    "q1 = rotate_quaternion(q1, theta=np.pi, axis='y')\n",
    "q2= [1, 0, 0, 0]\n",
    "rigid_simulation = create_rigid_simulation(orientations=[q1, q2], positions=rigid_pos,\n",
    "                                           n_rigids=n_rigids, rel_const_pos=rel_const_pos,\n",
    "                                          pps_ff=pps_ff, init_gsd=init_gsd)\n",
    "energy, forces = rigid_energy_forces(rigid_simulation, n_rigids)\n",
    "print('potential energy: ', energy)\n",
    "print('forces: ', forces[0])\n",
    "logs['side-end-tail-tail'] = {'dr': dr, \n",
    "                         'q1': q1,\n",
    "                         'q2' : q2,\n",
    "                         'energy': energy,\n",
    "                         'forces': forces\n",
    "                        }\n",
    "hoomd.write.GSD.write(rigid_simulation.state, filename=f\"{gsd_dir}/side-end-tail-tail.gsd\")\n",
    "# looking down the y axis\n",
    "sim_viewer = FresnelGSD(gsd_file=f\"{gsd_dir}/side-end-tail-tail.gsd\", view_axis=(0, 1, 0), frame=-1, height=20,\n",
    "                       color_dict={\"sh\": (0.42,0.267,1), \"ca\":(0.5, 0.5, 0.5), \"rigid\":(0.1, 0.8, 0.)}\n",
    "                    )\n",
    "sim_viewer.view()"
   ]
  },
  {
   "cell_type": "markdown",
   "id": "1560f5c3-0ce4-4d16-b13d-d115de7480b8",
   "metadata": {},
   "source": [
    "### 12. face-to-end s far (tail-head)"
   ]
  },
  {
   "cell_type": "code",
   "execution_count": 29,
   "id": "1a22883a-61de-493c-995c-22f2c611f743",
   "metadata": {},
   "outputs": [
    {
     "name": "stdout",
     "output_type": "stream",
     "text": [
      "potential energy:  -3.08210000771699\n",
      "forces:  [6.79019243e+00 1.33083696e-06 1.12563425e-01]\n"
     ]
    },
    {
     "data": {
      "image/png": "[encoded data removed]",
      "text/plain": [
       "<fresnel.util.ImageArray at 0x7f73bcaedcd0>"
      ]
     },
     "execution_count": 29,
     "metadata": {},
     "output_type": "execute_result"
    }
   ],
   "source": [
    "q1 = rotate_quaternion(rotate_quaternion(q=[1, 0, 0, 0], theta=np.pi/2, axis='y'), theta=np.pi/2, axis='x')\n",
    "q2=  rotate_quaternion([1, 0, 0, 0], theta=np.pi/2, axis='z')\n",
    "rigid_simulation = create_rigid_simulation(orientations=[q1, q2], positions=rigid_pos,\n",
    "                                           n_rigids=n_rigids, rel_const_pos=rel_const_pos,\n",
    "                                          pps_ff=pps_ff, init_gsd=init_gsd)\n",
    "\n",
    "energy, forces = rigid_energy_forces(rigid_simulation, n_rigids)\n",
    "print('potential energy: ', energy)\n",
    "print('forces: ', forces[0])\n",
    "logs['face-end-tail-head'] = {'dr': dr, \n",
    "                         'q1': q1,\n",
    "                         'q2' : q2,\n",
    "                         'energy': energy,\n",
    "                         'forces': forces\n",
    "                        }\n",
    "hoomd.write.GSD.write(rigid_simulation.state, filename=f\"{gsd_dir}/face-end-tail-head.gsd\")\n",
    "# looking down the y axis\n",
    "sim_viewer = FresnelGSD(gsd_file=f\"{gsd_dir}/face-end-tail-head.gsd\", view_axis=(0, 1, 0), frame=-1, height=20,\n",
    "                       color_dict={\"sh\": (0.42,0.267,1), \"ca\":(0.5, 0.5, 0.5), \"rigid\":(0.1, 0.8, 0.)}\n",
    "                    )\n",
    "sim_viewer.view()"
   ]
  },
  {
   "cell_type": "markdown",
   "id": "91b95ff9-3bfd-4a60-b654-61a69775e58f",
   "metadata": {},
   "source": [
    "### 13. face-to-end s close (tail-tail)"
   ]
  },
  {
   "cell_type": "code",
   "execution_count": 30,
   "id": "bd3bd7d4-92b4-48a4-80ea-74023fce7717",
   "metadata": {},
   "outputs": [
    {
     "name": "stdout",
     "output_type": "stream",
     "text": [
      "potential energy:  -3.538435099901177\n",
      "forces:  [5.75635684e+00 3.23067591e-06 2.53321555e-01]\n"
     ]
    },
    {
     "data": {
      "image/png": "[encoded data removed]",
      "text/plain": [
       "<fresnel.util.ImageArray at 0x7f73bcaeed20>"
      ]
     },
     "execution_count": 30,
     "metadata": {},
     "output_type": "execute_result"
    }
   ],
   "source": [
    "q1 = rotate_quaternion(rotate_quaternion(q=[1, 0, 0, 0], theta=np.pi/2, axis='y'), theta=np.pi/2, axis='x')\n",
    "q1 = rotate_quaternion(q1, theta=np.pi, axis='y')\n",
    "q2 = rotate_quaternion([1, 0, 0, 0], theta=np.pi/2, axis='z')\n",
    "rigid_simulation = create_rigid_simulation(orientations=[q1, q2], positions=rigid_pos,\n",
    "                                           n_rigids=n_rigids, rel_const_pos=rel_const_pos,\n",
    "                                          pps_ff=pps_ff, init_gsd=init_gsd)\n",
    "energy, forces = rigid_energy_forces(rigid_simulation, n_rigids)\n",
    "print('potential energy: ', energy)\n",
    "print('forces: ', forces[0])\n",
    "logs['face-end-tail-tail'] = {'dr': dr, \n",
    "                         'q1': q1,\n",
    "                         'q2' : q2,\n",
    "                         'energy': energy,\n",
    "                         'forces': forces\n",
    "                        }\n",
    "hoomd.write.GSD.write(rigid_simulation.state, filename=f\"{gsd_dir}/face-end-tail-tail.gsd\")\n",
    "# looking down the y axis\n",
    "sim_viewer = FresnelGSD(gsd_file=f\"{gsd_dir}/face-end-tail-tail.gsd\", view_axis=(0, 1, 0), frame=-1, height=20,\n",
    "                       color_dict={\"sh\": (0.42,0.267,1), \"ca\":(0.5, 0.5, 0.5), \"rigid\":(0.1, 0.8, 0.)}\n",
    "                    )\n",
    "sim_viewer.view()"
   ]
  },
  {
   "cell_type": "code",
   "execution_count": 33,
   "id": "fbc88d11-8197-4dc3-9b37-4a1835848c9a",
   "metadata": {},
   "outputs": [
    {
     "ename": "TypeError",
     "evalue": "Object of type ndarray is not JSON serializable",
     "output_type": "error",
     "traceback": [
      "\u001b[0;31m---------------------------------------------------------------------------\u001b[0m",
      "\u001b[0;31mTypeError\u001b[0m                                 Traceback (most recent call last)",
      "Cell \u001b[0;32mIn[33], line 3\u001b[0m\n\u001b[1;32m      1\u001b[0m \u001b[38;5;28;01mimport\u001b[39;00m \u001b[38;5;21;01mjson\u001b[39;00m\n\u001b[1;32m      2\u001b[0m \u001b[38;5;28;01mwith\u001b[39;00m \u001b[38;5;28mopen\u001b[39m(\u001b[38;5;124m\"\u001b[39m\u001b[38;5;124mellipsoid_arrangment_logs.json\u001b[39m\u001b[38;5;124m\"\u001b[39m, \u001b[38;5;124m\"\u001b[39m\u001b[38;5;124mw\u001b[39m\u001b[38;5;124m\"\u001b[39m) \u001b[38;5;28;01mas\u001b[39;00m outfile: \n\u001b[0;32m----> 3\u001b[0m     \u001b[43mjson\u001b[49m\u001b[38;5;241;43m.\u001b[39;49m\u001b[43mdump\u001b[49m\u001b[43m(\u001b[49m\u001b[43mlogs\u001b[49m\u001b[43m,\u001b[49m\u001b[43m \u001b[49m\u001b[43moutfile\u001b[49m\u001b[43m)\u001b[49m\n",
      "File \u001b[0;32m~/miniconda3/envs/orientations/lib/python3.12/json/__init__.py:179\u001b[0m, in \u001b[0;36mdump\u001b[0;34m(obj, fp, skipkeys, ensure_ascii, check_circular, allow_nan, cls, indent, separators, default, sort_keys, **kw)\u001b[0m\n\u001b[1;32m    173\u001b[0m     iterable \u001b[38;5;241m=\u001b[39m \u001b[38;5;28mcls\u001b[39m(skipkeys\u001b[38;5;241m=\u001b[39mskipkeys, ensure_ascii\u001b[38;5;241m=\u001b[39mensure_ascii,\n\u001b[1;32m    174\u001b[0m         check_circular\u001b[38;5;241m=\u001b[39mcheck_circular, allow_nan\u001b[38;5;241m=\u001b[39mallow_nan, indent\u001b[38;5;241m=\u001b[39mindent,\n\u001b[1;32m    175\u001b[0m         separators\u001b[38;5;241m=\u001b[39mseparators,\n\u001b[1;32m    176\u001b[0m         default\u001b[38;5;241m=\u001b[39mdefault, sort_keys\u001b[38;5;241m=\u001b[39msort_keys, \u001b[38;5;241m*\u001b[39m\u001b[38;5;241m*\u001b[39mkw)\u001b[38;5;241m.\u001b[39miterencode(obj)\n\u001b[1;32m    177\u001b[0m \u001b[38;5;66;03m# could accelerate with writelines in some versions of Python, at\u001b[39;00m\n\u001b[1;32m    178\u001b[0m \u001b[38;5;66;03m# a debuggability cost\u001b[39;00m\n\u001b[0;32m--> 179\u001b[0m \u001b[43m\u001b[49m\u001b[38;5;28;43;01mfor\u001b[39;49;00m\u001b[43m \u001b[49m\u001b[43mchunk\u001b[49m\u001b[43m \u001b[49m\u001b[38;5;129;43;01min\u001b[39;49;00m\u001b[43m \u001b[49m\u001b[43miterable\u001b[49m\u001b[43m:\u001b[49m\n\u001b[1;32m    180\u001b[0m \u001b[43m    \u001b[49m\u001b[43mfp\u001b[49m\u001b[38;5;241;43m.\u001b[39;49m\u001b[43mwrite\u001b[49m\u001b[43m(\u001b[49m\u001b[43mchunk\u001b[49m\u001b[43m)\u001b[49m\n",
      "File \u001b[0;32m~/miniconda3/envs/orientations/lib/python3.12/json/encoder.py:432\u001b[0m, in \u001b[0;36m_make_iterencode.<locals>._iterencode\u001b[0;34m(o, _current_indent_level)\u001b[0m\n\u001b[1;32m    430\u001b[0m     \u001b[38;5;28;01myield from\u001b[39;00m _iterencode_list(o, _current_indent_level)\n\u001b[1;32m    431\u001b[0m \u001b[38;5;28;01melif\u001b[39;00m \u001b[38;5;28misinstance\u001b[39m(o, \u001b[38;5;28mdict\u001b[39m):\n\u001b[0;32m--> 432\u001b[0m     \u001b[38;5;28;01myield from\u001b[39;00m _iterencode_dict(o, _current_indent_level)\n\u001b[1;32m    433\u001b[0m \u001b[38;5;28;01melse\u001b[39;00m:\n\u001b[1;32m    434\u001b[0m     \u001b[38;5;28;01mif\u001b[39;00m markers \u001b[38;5;129;01mis\u001b[39;00m \u001b[38;5;129;01mnot\u001b[39;00m \u001b[38;5;28;01mNone\u001b[39;00m:\n",
      "File \u001b[0;32m~/miniconda3/envs/orientations/lib/python3.12/json/encoder.py:406\u001b[0m, in \u001b[0;36m_make_iterencode.<locals>._iterencode_dict\u001b[0;34m(dct, _current_indent_level)\u001b[0m\n\u001b[1;32m    404\u001b[0m         \u001b[38;5;28;01melse\u001b[39;00m:\n\u001b[1;32m    405\u001b[0m             chunks \u001b[38;5;241m=\u001b[39m _iterencode(value, _current_indent_level)\n\u001b[0;32m--> 406\u001b[0m         \u001b[38;5;28;01myield from\u001b[39;00m chunks\n\u001b[1;32m    407\u001b[0m \u001b[38;5;28;01mif\u001b[39;00m newline_indent \u001b[38;5;129;01mis\u001b[39;00m \u001b[38;5;129;01mnot\u001b[39;00m \u001b[38;5;28;01mNone\u001b[39;00m:\n\u001b[1;32m    408\u001b[0m     _current_indent_level \u001b[38;5;241m-\u001b[39m\u001b[38;5;241m=\u001b[39m \u001b[38;5;241m1\u001b[39m\n",
      "File \u001b[0;32m~/miniconda3/envs/orientations/lib/python3.12/json/encoder.py:406\u001b[0m, in \u001b[0;36m_make_iterencode.<locals>._iterencode_dict\u001b[0;34m(dct, _current_indent_level)\u001b[0m\n\u001b[1;32m    404\u001b[0m         \u001b[38;5;28;01melse\u001b[39;00m:\n\u001b[1;32m    405\u001b[0m             chunks \u001b[38;5;241m=\u001b[39m _iterencode(value, _current_indent_level)\n\u001b[0;32m--> 406\u001b[0m         \u001b[38;5;28;01myield from\u001b[39;00m chunks\n\u001b[1;32m    407\u001b[0m \u001b[38;5;28;01mif\u001b[39;00m newline_indent \u001b[38;5;129;01mis\u001b[39;00m \u001b[38;5;129;01mnot\u001b[39;00m \u001b[38;5;28;01mNone\u001b[39;00m:\n\u001b[1;32m    408\u001b[0m     _current_indent_level \u001b[38;5;241m-\u001b[39m\u001b[38;5;241m=\u001b[39m \u001b[38;5;241m1\u001b[39m\n",
      "File \u001b[0;32m~/miniconda3/envs/orientations/lib/python3.12/json/encoder.py:439\u001b[0m, in \u001b[0;36m_make_iterencode.<locals>._iterencode\u001b[0;34m(o, _current_indent_level)\u001b[0m\n\u001b[1;32m    437\u001b[0m         \u001b[38;5;28;01mraise\u001b[39;00m \u001b[38;5;167;01mValueError\u001b[39;00m(\u001b[38;5;124m\"\u001b[39m\u001b[38;5;124mCircular reference detected\u001b[39m\u001b[38;5;124m\"\u001b[39m)\n\u001b[1;32m    438\u001b[0m     markers[markerid] \u001b[38;5;241m=\u001b[39m o\n\u001b[0;32m--> 439\u001b[0m o \u001b[38;5;241m=\u001b[39m \u001b[43m_default\u001b[49m\u001b[43m(\u001b[49m\u001b[43mo\u001b[49m\u001b[43m)\u001b[49m\n\u001b[1;32m    440\u001b[0m \u001b[38;5;28;01myield from\u001b[39;00m _iterencode(o, _current_indent_level)\n\u001b[1;32m    441\u001b[0m \u001b[38;5;28;01mif\u001b[39;00m markers \u001b[38;5;129;01mis\u001b[39;00m \u001b[38;5;129;01mnot\u001b[39;00m \u001b[38;5;28;01mNone\u001b[39;00m:\n",
      "File \u001b[0;32m~/miniconda3/envs/orientations/lib/python3.12/json/encoder.py:180\u001b[0m, in \u001b[0;36mJSONEncoder.default\u001b[0;34m(self, o)\u001b[0m\n\u001b[1;32m    161\u001b[0m \u001b[38;5;28;01mdef\u001b[39;00m \u001b[38;5;21mdefault\u001b[39m(\u001b[38;5;28mself\u001b[39m, o):\n\u001b[1;32m    162\u001b[0m \u001b[38;5;250m    \u001b[39m\u001b[38;5;124;03m\"\"\"Implement this method in a subclass such that it returns\u001b[39;00m\n\u001b[1;32m    163\u001b[0m \u001b[38;5;124;03m    a serializable object for ``o``, or calls the base implementation\u001b[39;00m\n\u001b[1;32m    164\u001b[0m \u001b[38;5;124;03m    (to raise a ``TypeError``).\u001b[39;00m\n\u001b[0;32m   (...)\u001b[0m\n\u001b[1;32m    178\u001b[0m \n\u001b[1;32m    179\u001b[0m \u001b[38;5;124;03m    \"\"\"\u001b[39;00m\n\u001b[0;32m--> 180\u001b[0m     \u001b[38;5;28;01mraise\u001b[39;00m \u001b[38;5;167;01mTypeError\u001b[39;00m(\u001b[38;5;124mf\u001b[39m\u001b[38;5;124m'\u001b[39m\u001b[38;5;124mObject of type \u001b[39m\u001b[38;5;132;01m{\u001b[39;00mo\u001b[38;5;241m.\u001b[39m\u001b[38;5;18m__class__\u001b[39m\u001b[38;5;241m.\u001b[39m\u001b[38;5;18m__name__\u001b[39m\u001b[38;5;132;01m}\u001b[39;00m\u001b[38;5;124m \u001b[39m\u001b[38;5;124m'\u001b[39m\n\u001b[1;32m    181\u001b[0m                     \u001b[38;5;124mf\u001b[39m\u001b[38;5;124m'\u001b[39m\u001b[38;5;124mis not JSON serializable\u001b[39m\u001b[38;5;124m'\u001b[39m)\n",
      "\u001b[0;31mTypeError\u001b[0m: Object of type ndarray is not JSON serializable"
     ]
    }
   ],
   "source": [
    "import json\n",
    "with open(\"ellipsoid_arrangment_logs.json\", \"w\") as outfile: \n",
    "    json.dump(logs, outfile)\n"
   ]
  },
  {
   "cell_type": "code",
   "execution_count": null,
   "id": "40d2b0dd-f92c-4e93-b4f0-2044c422346d",
   "metadata": {},
   "outputs": [],
   "source": []
  }
 ],
 "metadata": {
  "kernelspec": {
   "display_name": "Python 3 (ipykernel)",
   "language": "python",
   "name": "python3"
  },
  "language_info": {
   "codemirror_mode": {
    "name": "ipython",
    "version": 3
   },
   "file_extension": ".py",
   "mimetype": "text/x-python",
   "name": "python",
   "nbconvert_exporter": "python",
   "pygments_lexer": "ipython3",
   "version": "3.12.3"
  }
 },
 "nbformat": 4,
 "nbformat_minor": 5
}
