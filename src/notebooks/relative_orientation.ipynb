{
 "cells": [
  {
   "cell_type": "code",
   "execution_count": 4,
   "id": "8bda2699-e541-40ec-a112-5b2cfaac2331",
   "metadata": {},
   "outputs": [],
   "source": [
    "import numpy as np\n",
    "import os\n",
    "import hoomd\n",
    "import gsd\n",
    "import rowan\n",
    "import pickle\n",
    "from cmeutils.visualize import FresnelGSD"
   ]
  },
  {
   "cell_type": "code",
   "execution_count": 13,
   "id": "1b74ae40-3640-4a55-b7e2-dd1c1272e31f",
   "metadata": {},
   "outputs": [],
   "source": [
    "n_rigids = 2\n",
    "rel_const_pos = np.load('rel_const_pos.npy')\n",
    "with open('pps_ff.pkl', 'rb') as f:\n",
    "    pps_ff = pickle.load(f)"
   ]
  },
  {
   "cell_type": "code",
   "execution_count": null,
   "id": "211da528-a906-4202-859a-9f88c5aa13d5",
   "metadata": {},
   "outputs": [],
   "source": []
  },
  {
   "cell_type": "code",
   "execution_count": 14,
   "id": "4c29b35d-77dd-4765-a26c-eaa9d4dd64cf",
   "metadata": {},
   "outputs": [],
   "source": [
    "gsd_dir = 'arrangement_snapshots'\n",
    "if not os.path.exists(gsd_dir):\n",
    "    os.mkdir(gsd_dir)"
   ]
  },
  {
   "cell_type": "code",
   "execution_count": 17,
   "id": "eb231ff6-eb36-48bd-9cfa-5b268c4b45f9",
   "metadata": {},
   "outputs": [],
   "source": [
    "def create_rigid_simulation(orientations, positions, n_rigids, rel_const_pos, pps_ff):\n",
    "    rigid_simulation = hoomd.Simulation(device=hoomd.device.auto_select(), seed=1)\n",
    "    rigid_simulation.create_state_from_gsd(filename='rigid_init_{}.gsd'.format(n_rigids))\n",
    "    const_particle_types = ['ca', 'ca', 'ca', 'ca', 'sh', 'ca', 'ca']\n",
    "    \n",
    "\n",
    "    rigid = hoomd.md.constrain.Rigid()\n",
    "    rigid.body['rigid'] = {\n",
    "        \"constituent_types\":const_particle_types,\n",
    "        \"positions\": rel_const_pos,\n",
    "        \"orientations\": [(1.0, 0.0, 0.0, 0.0)]* len(rel_const_pos),\n",
    "        }\n",
    "    integrator = hoomd.md.Integrator(dt=0.005, integrate_rotational_dof=True)\n",
    "    rigid_simulation.operations.integrator = integrator\n",
    "    integrator.rigid = rigid\n",
    "    rigid_centers_and_free = hoomd.filter.Rigid((\"center\", \"free\"))\n",
    "    nvt = hoomd.md.methods.ConstantVolume(\n",
    "        filter=rigid_centers_and_free,\n",
    "        thermostat=hoomd.md.methods.thermostats.Bussi(kT=1.0))\n",
    "    integrator.methods.append(nvt)\n",
    "    \n",
    "    cell = hoomd.md.nlist.Cell(buffer=0, exclusions=['body'])\n",
    "    \n",
    "    lj = hoomd.md.pair.LJ(nlist=cell)\n",
    "    \n",
    "    # use aa pps simulation to define lj and special lj forces between constituent particles\n",
    "    for k, v in dict(pps_ff[0].params).items():\n",
    "        lj.params[k] = v\n",
    "        lj.r_cut[k] = 4.8\n",
    "    \n",
    "    lj.params[('rigid', ['rigid', 'ca', 'sh'])]= dict(epsilon=0, sigma=0)\n",
    "    lj.r_cut[('rigid', ['rigid', 'ca', 'sh'])] = 0\n",
    "\n",
    "    integrator.forces.append(lj)\n",
    "    rigid_simulation.state.thermalize_particle_momenta(filter=rigid_centers_and_free,\n",
    "                                             kT=1.0)\n",
    "    thermodynamic_quantities = hoomd.md.compute.ThermodynamicQuantities(filter=hoomd.filter.All())\n",
    "\n",
    "    rigid_simulation.operations.computes.append(thermodynamic_quantities)\n",
    "    with rigid_simulation._state.cpu_local_snapshot as data:\n",
    "        rtag = data.particles.rtag\n",
    "        rigid_tags = rtag[:n_rigids]\n",
    "        data.particles.orientation[rigid_tags] = orientations\n",
    "        \n",
    "        data.particles.position[rigid_tags] = positions\n",
    "\n",
    "    rigid_simulation.run(0)\n",
    "    return rigid_simulation\n",
    "\n",
    "    \n"
   ]
  },
  {
   "cell_type": "code",
   "execution_count": 19,
   "id": "d454b098-e808-422d-8a26-3f8a54f373fc",
   "metadata": {},
   "outputs": [],
   "source": [
    "def rotate_quaternion(q, theta, axis):\n",
    "    cos_theta_2 = np.cos(theta / 2)\n",
    "    sin_theta_2 = np.sin(theta / 2)\n",
    "\n",
    "    if axis == 'x':\n",
    "        r = [cos_theta_2, sin_theta_2, 0, 0]\n",
    "    elif axis == 'y':\n",
    "        r = [cos_theta_2, 0, sin_theta_2, 0]\n",
    "    elif axis == 'z':\n",
    "        r = [cos_theta_2, 0, 0, sin_theta_2]\n",
    "    else:\n",
    "        raise ValueError(\"Axis must be 'x', 'y', or 'z'\")\n",
    "\n",
    "    q0, q1, q2, q3 = q\n",
    "    r0, r1, r2, r3 = r\n",
    "\n",
    "    q_prime = [\n",
    "        r0 * q0 - r1 * q1 - r2 * q2 - r3 * q3,\n",
    "        r0 * q1 + r1 * q0 + r2 * q3 - r3 * q2,\n",
    "        r0 * q2 - r1 * q3 + r2 * q0 + r3 * q1,\n",
    "        r0 * q3 + r1 * q2 - r2 * q1 + r3 * q0\n",
    "    ]\n",
    "\n",
    "    return q_prime\n"
   ]
  },
  {
   "cell_type": "markdown",
   "id": "f8efa30c-f22c-4c89-981d-bb39b0c28586",
   "metadata": {
    "jp-MarkdownHeadingCollapsed": true
   },
   "source": [
    "## Proxies for relative orientations"
   ]
  },
  {
   "cell_type": "markdown",
   "id": "cf923076-3044-448b-8cf3-d78a09ce6cf8",
   "metadata": {},
   "source": [
    "## Case 1 : parallel along Z axis"
   ]
  },
  {
   "cell_type": "code",
   "execution_count": 8,
   "id": "9989354c-62b5-4520-9b9d-069e824dac9d",
   "metadata": {},
   "outputs": [],
   "source": [
    "q0 = [1, 0, 0, 0]\n",
    "rigid_pos = np.asarray([[0, 0, 2], [0, 0, -2]])\n",
    "rigid_simulation = create_rigid_simulation(orientations=[q0, q0], positions=rigid_pos, n_rigids=n_rigids, \n",
    "                                           rel_const_pos=rel_const_pos, pps_ff=pps_ff)\n",
    "hoomd.write.GSD.write(rigid_simulation.state, filename=f\"{/q0_q0.gsd\")"
   ]
  },
  {
   "cell_type": "code",
   "execution_count": 9,
   "id": "4713dcea-556a-4632-8d87-8163e74927bf",
   "metadata": {},
   "outputs": [
    {
     "data": {
      "image/png": "[encoded data removed]",
      "text/plain": [
       "<fresnel.util.ImageArray at 0x7fcc2f15db90>"
      ]
     },
     "execution_count": 9,
     "metadata": {},
     "output_type": "execute_result"
    }
   ],
   "source": [
    "sim_viewer = FresnelGSD(gsd_file=\"new_snapshots/q0_q0.gsd\", view_axis=(1, 0., 0), frame=-1, height=20,\n",
    "                       color_dict={\"sh\": (0.42,0.267,1), \"ca\":(0.5, 0.5, 0.5), \"rigid\":(0.1, 0.8, 0.)}\n",
    "                    )\n",
    "sim_viewer.view()"
   ]
  },
  {
   "cell_type": "markdown",
   "id": "fb816865-827d-4e05-92fe-fd7d14deddee",
   "metadata": {},
   "source": [
    "### Case 2: q1=[0, 1, 0, 0], rot 180 around x"
   ]
  },
  {
   "cell_type": "code",
   "execution_count": 10,
   "id": "5b45a482-e5db-46b1-94dc-b8ae222f4f63",
   "metadata": {},
   "outputs": [],
   "source": [
    "q1 = rotate_quaternion(q=q0, theta=np.pi, axis='x')\n",
    "rigid_pos = [[0, 0, 2], [0, 0, -2]]\n",
    "rigid_simulation = create_rigid_simulation(orientations=[q1, q1], positions=rigid_pos, \n",
    "                                           n_rigids=n_rigids, rel_const_pos=rel_const_pos, pps_ff=pps_ff)\n",
    "\n",
    "hoomd.write.GSD.write(rigid_simulation.state, filename=\"new_snapshots/q1_q1.gsd\")"
   ]
  },
  {
   "cell_type": "code",
   "execution_count": 11,
   "id": "280ab02e-a444-447b-8bd9-6ee9d89b4013",
   "metadata": {},
   "outputs": [
    {
     "data": {
      "image/png": "[encoded data removed]",
      "text/plain": [
       "<fresnel.util.ImageArray at 0x7fcc25082a50>"
      ]
     },
     "execution_count": 11,
     "metadata": {},
     "output_type": "execute_result"
    }
   ],
   "source": [
    "sim_viewer = FresnelGSD(gsd_file=\"new_snapshots/q1_q1.gsd\", view_axis=(1, 0., 0), frame=-1, height=20,\n",
    "                       color_dict={\"sh\": (0.42,0.267,1), \"ca\":(0.5, 0.5, 0.5), \"rigid\":(0.1, 0.8, 0.)}\n",
    "                    )\n",
    "sim_viewer.view()"
   ]
  },
  {
   "cell_type": "markdown",
   "id": "5c4e48ea-09e4-4407-ba6d-43c3d42edbf0",
   "metadata": {},
   "source": [
    "## Case 3: rot 90 degress around y"
   ]
  },
  {
   "cell_type": "code",
   "execution_count": 12,
   "id": "c8d25293-6605-443e-86cb-20f30819173d",
   "metadata": {},
   "outputs": [
    {
     "data": {
      "text/plain": [
       "array([0.70710678, 0.        , 0.70710678, 0.        ])"
      ]
     },
     "execution_count": 12,
     "metadata": {},
     "output_type": "execute_result"
    }
   ],
   "source": [
    "rotate_quaternion(q=q0, theta=np.pi/2, axis='y')"
   ]
  },
  {
   "cell_type": "code",
   "execution_count": 15,
   "id": "9ae959bb-da97-43e0-a355-88d0eef4cc13",
   "metadata": {},
   "outputs": [],
   "source": [
    "q2 = rotate_quaternion(q=q0, theta=np.pi/2, axis='y')\n",
    "rigid_pos = [[0, 0, 2], [0, 0, -2]]\n",
    "rigid_simulation = create_rigid_simulation(orientations=[q2, q2], positions=rigid_pos,\n",
    "                                           n_rigids=n_rigids, rel_const_pos=rel_const_pos,\n",
    "                                          pps_ff=pps_ff)\n",
    "\n",
    "hoomd.write.GSD.write(rigid_simulation.state, filename=\"new_snapshots/q2_q2.gsd\")"
   ]
  },
  {
   "cell_type": "code",
   "execution_count": 79,
   "id": "7623c62b-72b0-48bd-8aad-7008c9ee19b5",
   "metadata": {},
   "outputs": [
    {
     "data": {
      "image/png": "[encoded data removed]",
      "text/plain": [
       "<fresnel.util.ImageArray at 0x7f653e814950>"
      ]
     },
     "execution_count": 79,
     "metadata": {},
     "output_type": "execute_result"
    }
   ],
   "source": [
    "sim_viewer = FresnelGSD(gsd_file=\"new_snapshots/q2_q2.gsd\", view_axis=(0, 1., 0), frame=-1, height=20,\n",
    "                       color_dict={\"sh\": (0.42,0.267,1), \"ca\":(0.5, 0.5, 0.5), \"rigid\":(0.1, 0.8, 0.)}\n",
    "                    )\n",
    "sim_viewer.view()"
   ]
  },
  {
   "cell_type": "markdown",
   "id": "a525a63a-6198-4f8f-9d28-ec1d449c1f2f",
   "metadata": {},
   "source": [
    "### Case 4: rotate 90 degress around z axis"
   ]
  },
  {
   "cell_type": "code",
   "execution_count": 17,
   "id": "918d90b6-35b9-4141-8cd0-80edcb3dfb56",
   "metadata": {},
   "outputs": [],
   "source": [
    "q3 = rotate_quaternion(q=q0, theta=np.pi/2 , axis=\"z\")\n",
    "rigid_pos = [[0, 0, 2], [0, 0, -2]]\n",
    "rigid_simulation = create_rigid_simulation(orientations=[q3, q3], positions=rigid_pos,\n",
    "                                           n_rigids=n_rigids, rel_const_pos=rel_const_pos,\n",
    "                                          pps_ff=pps_ff)\n",
    "\n",
    "hoomd.write.GSD.write(rigid_simulation.state, filename=\"new_snapshots/q3_q3.gsd\")"
   ]
  },
  {
   "cell_type": "code",
   "execution_count": 18,
   "id": "dfd37bc3-36ef-4799-b36d-e5241f87e1bc",
   "metadata": {},
   "outputs": [
    {
     "data": {
      "image/png": "[encoded data removed]",
      "text/plain": [
       "<fresnel.util.ImageArray at 0x7fcc2f1fab10>"
      ]
     },
     "execution_count": 18,
     "metadata": {},
     "output_type": "execute_result"
    }
   ],
   "source": [
    "sim_viewer = FresnelGSD(gsd_file=\"new_snapshots/q3_q3.gsd\", view_axis=(1, 0., 0), frame=-1, height=20,\n",
    "                       color_dict={\"sh\": (0.42,0.267,1), \"ca\":(0.5, 0.5, 0.5), \"rigid\":(0.1, 0.8, 0.)}\n",
    "                    )\n",
    "sim_viewer.view()"
   ]
  },
  {
   "cell_type": "markdown",
   "id": "1b2a8c83-7854-4f2f-9433-6f45041e8e92",
   "metadata": {},
   "source": [
    "## Ellipsoid Arrangmenets (with constant center-to-center distance R=2.)"
   ]
  },
  {
   "cell_type": "code",
   "execution_count": 11,
   "id": "ed5d3e48-6bc3-4695-bf94-727d6146e3dc",
   "metadata": {},
   "outputs": [],
   "source": [
    "rigid_pos = [[-1.0, 0, 0], [1.0, 0, 0]]"
   ]
  },
  {
   "cell_type": "markdown",
   "id": "20e3f675-fa86-4d64-afb3-c5088f4871c2",
   "metadata": {},
   "source": [
    "### 1. side-to-side with S aligned"
   ]
  },
  {
   "cell_type": "code",
   "execution_count": 18,
   "id": "54203302-64df-4362-81f2-801ccc38cafe",
   "metadata": {},
   "outputs": [
    {
     "name": "stdout",
     "output_type": "stream",
     "text": [
      "potential_energy:  -0.9371754406724231\n"
     ]
    },
    {
     "data": {
      "image/png": "[encoded data removed]",
      "text/plain": [
       "<fresnel.util.ImageArray at 0x7fdc586a2150>"
      ]
     },
     "execution_count": 18,
     "metadata": {},
     "output_type": "execute_result"
    }
   ],
   "source": [
    "q1 = [1, 0, 0, 0]\n",
    "q2= [1, 0, 0,0]\n",
    "rigid_simulation = create_rigid_simulation(orientations=[q1, q2], positions=rigid_pos,\n",
    "                                           n_rigids=n_rigids, rel_const_pos=rel_const_pos,\n",
    "                                          pps_ff=pps_ff)\n",
    "print('potential_energy: ', rigid_simulation.operations.computes[0].potential_energy)\n",
    "hoomd.write.GSD.write(rigid_simulation.state, filename=f\"{gsd_dir}/side-side-s-aligned.gsd\")\n",
    "# looking down the y axis\n",
    "sim_viewer = FresnelGSD(gsd_file=\"new_snapshots/side-side-s-aligned.gsd\", view_axis=(0, 1, 0), frame=-1, height=20,\n",
    "                       color_dict={\"sh\": (0.42,0.267,1), \"ca\":(0.5, 0.5, 0.5), \"rigid\":(0.1, 0.8, 0.)}\n",
    "                    )\n",
    "sim_viewer.view()"
   ]
  },
  {
   "cell_type": "markdown",
   "id": "77d74da3-513a-4823-a362-c6b4699a8df9",
   "metadata": {},
   "source": [
    "### 2. side-to-side with S opposite"
   ]
  },
  {
   "cell_type": "code",
   "execution_count": 20,
   "id": "7118bcb8-8c51-46f2-a21c-a843dd6ae99a",
   "metadata": {},
   "outputs": [
    {
     "name": "stdout",
     "output_type": "stream",
     "text": [
      "potential_energy:  -0.9015600035318423\n"
     ]
    },
    {
     "data": {
      "image/png": "[encoded data removed]",
      "text/plain": [
       "<fresnel.util.ImageArray at 0x7fdc63008bd0>"
      ]
     },
     "execution_count": 20,
     "metadata": {},
     "output_type": "execute_result"
    }
   ],
   "source": [
    "q1 = [1, 0, 0, 0]\n",
    "q2= rotate_quaternion(q1, theta=np.pi, axis='x')\n",
    "rigid_simulation = create_rigid_simulation(orientations=[q1, q2], positions=rigid_pos,\n",
    "                                           n_rigids=n_rigids, rel_const_pos=rel_const_pos,\n",
    "                                          pps_ff=pps_ff)\n",
    "print('potential_energy: ', rigid_simulation.operations.computes[0].potential_energy)\n",
    "hoomd.write.GSD.write(rigid_simulation.state, filename=\"new_snapshots/side-side-s-opposite.gsd\")\n",
    "# looking down the y axis\n",
    "sim_viewer = FresnelGSD(gsd_file=\"new_snapshots/side-side-s-opposite.gsd\", view_axis=(0, 1, 0), frame=-1, height=20,\n",
    "                       color_dict={\"sh\": (0.42,0.267,1), \"ca\":(0.5, 0.5, 0.5), \"rigid\":(0.1, 0.8, 0.)}\n",
    "                    )\n",
    "sim_viewer.view()\n"
   ]
  },
  {
   "cell_type": "markdown",
   "id": "e30ed0a5-7f34-4509-87c1-5ae1f9998eb2",
   "metadata": {},
   "source": [
    "### 3. face-to-face S aligned"
   ]
  },
  {
   "cell_type": "code",
   "execution_count": 21,
   "id": "6f4102da-12ad-42e6-949a-baa34414f4ba",
   "metadata": {},
   "outputs": [
    {
     "name": "stdout",
     "output_type": "stream",
     "text": [
      "potential_energy:  -0.5002767851660119\n"
     ]
    },
    {
     "data": {
      "image/png": "[encoded data removed]",
      "text/plain": [
       "<fresnel.util.ImageArray at 0x7fdc5897d450>"
      ]
     },
     "execution_count": 21,
     "metadata": {},
     "output_type": "execute_result"
    }
   ],
   "source": [
    "q1 = rotate_quaternion([1, 0, 0, 0], theta=np.pi/2, axis='z')\n",
    "q2= rotate_quaternion([1, 0, 0, 0], theta=np.pi/2, axis='z')\n",
    "rigid_simulation = create_rigid_simulation(orientations=[q1, q2], positions=rigid_pos,\n",
    "                                           n_rigids=n_rigids, rel_const_pos=rel_const_pos,\n",
    "                                          pps_ff=pps_ff)\n",
    "print('potential_energy: ', rigid_simulation.operations.computes[0].potential_energy)\n",
    "hoomd.write.GSD.write(rigid_simulation.state, filename=\"new_snapshots/face-face-s-aligned.gsd\")\n",
    "# looking down the y axis\n",
    "sim_viewer = FresnelGSD(gsd_file=\"new_snapshots/face-face-s-aligned.gsd\", view_axis=(0, 1, 0), frame=-1, height=20,\n",
    "                       color_dict={\"sh\": (0.42,0.267,1), \"ca\":(0.5, 0.5, 0.5), \"rigid\":(0.1, 0.8, 0.)}\n",
    "                    )\n",
    "sim_viewer.view()"
   ]
  },
  {
   "cell_type": "markdown",
   "id": "ed5ff0ed-7d12-4341-89e5-5e9f91b7951f",
   "metadata": {},
   "source": [
    "### 4. face-to-face S opposite"
   ]
  },
  {
   "cell_type": "code",
   "execution_count": 22,
   "id": "a21c4c71-8b18-4bd9-ad75-a1ca60261ca6",
   "metadata": {},
   "outputs": [
    {
     "name": "stdout",
     "output_type": "stream",
     "text": [
      "potential_energy:  -0.5006553758683023\n"
     ]
    },
    {
     "data": {
      "image/png": "[encoded data removed]",
      "text/plain": [
       "<fresnel.util.ImageArray at 0x7fdc59002c50>"
      ]
     },
     "execution_count": 22,
     "metadata": {},
     "output_type": "execute_result"
    }
   ],
   "source": [
    "q1 = rotate_quaternion([1, 0, 0, 0], theta=np.pi/2, axis='z')\n",
    "q2= rotate_quaternion(q1, theta=np.pi, axis='x')\n",
    "rigid_simulation = create_rigid_simulation(orientations=[q1, q2], positions=rigid_pos,\n",
    "                                           n_rigids=n_rigids, rel_const_pos=rel_const_pos,\n",
    "                                          pps_ff=pps_ff)\n",
    "print('potential_energy: ', rigid_simulation.operations.computes[0].potential_energy)\n",
    "hoomd.write.GSD.write(rigid_simulation.state, filename=\"new_snapshots/face-face-s-opposite.gsd\")\n",
    "# looking down the y axis\n",
    "sim_viewer = FresnelGSD(gsd_file=\"new_snapshots/face-face-s-opposite.gsd\", view_axis=(0, 1, 0), frame=-1, height=20,\n",
    "                       color_dict={\"sh\": (0.42,0.267,1), \"ca\":(0.5, 0.5, 0.5), \"rigid\":(0.1, 0.8, 0.)}\n",
    "                    )\n",
    "sim_viewer.view()"
   ]
  },
  {
   "cell_type": "markdown",
   "id": "8102835f-2503-4412-b7f4-511bb118ce65",
   "metadata": {},
   "source": [
    "### 5. side-to-face s aligned"
   ]
  },
  {
   "cell_type": "code",
   "execution_count": 23,
   "id": "2134b564-fd87-4cf6-b424-fc78d5e5e220",
   "metadata": {},
   "outputs": [
    {
     "name": "stdout",
     "output_type": "stream",
     "text": [
      "potential_energy:  -0.657896875435259\n"
     ]
    },
    {
     "data": {
      "image/png": "[encoded data removed]",
      "text/plain": [
       "<fresnel.util.ImageArray at 0x7fdc59009ad0>"
      ]
     },
     "execution_count": 23,
     "metadata": {},
     "output_type": "execute_result"
    }
   ],
   "source": [
    "q1 = [1, 0, 0, 0]\n",
    "q2= rotate_quaternion(q1, theta=np.pi/2, axis='z')\n",
    "rigid_simulation = create_rigid_simulation(orientations=[q1, q2], positions=rigid_pos,\n",
    "                                           n_rigids=n_rigids, rel_const_pos=rel_const_pos,\n",
    "                                          pps_ff=pps_ff)\n",
    "print('potential_energy: ', rigid_simulation.operations.computes[0].potential_energy)\n",
    "hoomd.write.GSD.write(rigid_simulation.state, filename=\"new_snapshots/side-face-s-aligned.gsd\")\n",
    "# looking down the y axis\n",
    "sim_viewer = FresnelGSD(gsd_file=\"new_snapshots/side-face-s-aligned.gsd\", view_axis=(0, 1, 0), frame=-1, height=20,\n",
    "                       color_dict={\"sh\": (0.42,0.267,1), \"ca\":(0.5, 0.5, 0.5), \"rigid\":(0.1, 0.8, 0.)}\n",
    "                    )\n",
    "sim_viewer.view()"
   ]
  },
  {
   "cell_type": "markdown",
   "id": "28555a2b-ee49-4e69-9032-14e7101f1b58",
   "metadata": {},
   "source": [
    "### 5. side-to-face s opposite"
   ]
  },
  {
   "cell_type": "code",
   "execution_count": 24,
   "id": "52783374-2502-4114-b33d-ac99297452ba",
   "metadata": {},
   "outputs": [
    {
     "name": "stdout",
     "output_type": "stream",
     "text": [
      "potential_energy:  -0.6637701849491355\n"
     ]
    },
    {
     "data": {
      "image/png": "[encoded data removed]",
      "text/plain": [
       "<fresnel.util.ImageArray at 0x7fdc58ad02d0>"
      ]
     },
     "execution_count": 24,
     "metadata": {},
     "output_type": "execute_result"
    }
   ],
   "source": [
    "q1 = [1, 0, 0, 0]\n",
    "q2= rotate_quaternion(rotate_quaternion(q1, theta=np.pi/2, axis='z'), theta=np.pi, axis='x')\n",
    "rigid_simulation = create_rigid_simulation(orientations=[q1, q2], positions=rigid_pos,\n",
    "                                           n_rigids=n_rigids, rel_const_pos=rel_const_pos,\n",
    "                                          pps_ff=pps_ff)\n",
    "print('potential_energy: ', rigid_simulation.operations.computes[0].potential_energy)\n",
    "hoomd.write.GSD.write(rigid_simulation.state, filename=\"new_snapshots/side-face-s-opposite.gsd\")\n",
    "# looking down the y axis\n",
    "sim_viewer = FresnelGSD(gsd_file=\"new_snapshots/side-face-s-opposite.gsd\", view_axis=(0, 1, 0), frame=-1, height=20,\n",
    "                       color_dict={\"sh\": (0.42,0.267,1), \"ca\":(0.5, 0.5, 0.5), \"rigid\":(0.1, 0.8, 0.)}\n",
    "                    )\n",
    "sim_viewer.view()"
   ]
  },
  {
   "cell_type": "markdown",
   "id": "33c06ed6-4959-4be1-9119-535f2d025f99",
   "metadata": {},
   "source": [
    "### 6. end-to-end s aligned"
   ]
  },
  {
   "cell_type": "code",
   "execution_count": 25,
   "id": "2adc6ab3-6fb2-44ec-91c7-ee8b74a08911",
   "metadata": {},
   "outputs": [
    {
     "name": "stdout",
     "output_type": "stream",
     "text": [
      "potential_energy:  56.08248024890145\n"
     ]
    },
    {
     "data": {
      "image/png": "[encoded data removed]",
      "text/plain": [
       "<fresnel.util.ImageArray at 0x7fdc586b0f90>"
      ]
     },
     "execution_count": 25,
     "metadata": {},
     "output_type": "execute_result"
    }
   ],
   "source": [
    "q1 = rotate_quaternion(rotate_quaternion(q=[1, 0, 0, 0], theta=np.pi/2, axis='y'), theta=np.pi/2, axis='x')\n",
    "q2= q1\n",
    "rigid_simulation = create_rigid_simulation(orientations=[q1, q2], positions=rigid_pos,\n",
    "                                           n_rigids=n_rigids, rel_const_pos=rel_const_pos,\n",
    "                                          pps_ff=pps_ff)\n",
    "print('potential_energy: ', rigid_simulation.operations.computes[0].potential_energy)\n",
    "hoomd.write.GSD.write(rigid_simulation.state, filename=\"new_snapshots/end-end-s-aligned.gsd\")\n",
    "# looking down the y axis\n",
    "sim_viewer = FresnelGSD(gsd_file=\"new_snapshots/end-end-s-aligned.gsd\", view_axis=(0, 1, 0), frame=-1, height=20,\n",
    "                       color_dict={\"sh\": (0.42,0.267,1), \"ca\":(0.5, 0.5, 0.5), \"rigid\":(0.1, 0.8, 0.)}\n",
    "                    )\n",
    "sim_viewer.view()"
   ]
  },
  {
   "cell_type": "markdown",
   "id": "d80c73d8-7709-4dd3-aeb0-ecafdbc86799",
   "metadata": {},
   "source": [
    "### 7. end-to-end s opposite"
   ]
  },
  {
   "cell_type": "code",
   "execution_count": 26,
   "id": "7e42800a-a4b4-4815-876e-c10eed401d06",
   "metadata": {},
   "outputs": [
    {
     "name": "stdout",
     "output_type": "stream",
     "text": [
      "potential_energy:  33.641014283196526\n"
     ]
    },
    {
     "data": {
      "image/png": "[encoded data removed]",
      "text/plain": [
       "<fresnel.util.ImageArray at 0x7fdc63354710>"
      ]
     },
     "execution_count": 26,
     "metadata": {},
     "output_type": "execute_result"
    }
   ],
   "source": [
    "q1 = rotate_quaternion(rotate_quaternion(q=[1, 0, 0, 0], theta=np.pi/2, axis='y'), theta=np.pi/2, axis='x')\n",
    "q2= rotate_quaternion(q1, theta=np.pi, axis='y')\n",
    "rigid_simulation = create_rigid_simulation(orientations=[q1, q2], positions=rigid_pos,\n",
    "                                           n_rigids=n_rigids, rel_const_pos=rel_const_pos,\n",
    "                                          pps_ff=pps_ff)\n",
    "print('potential_energy: ', rigid_simulation.operations.computes[0].potential_energy)\n",
    "hoomd.write.GSD.write(rigid_simulation.state, filename=\"new_snapshots/end-end-s-opposite.gsd\")\n",
    "# looking down the y axis\n",
    "sim_viewer = FresnelGSD(gsd_file=\"new_snapshots/end-end-s-opposite.gsd\", view_axis=(0, 1, 0), frame=-1, height=20,\n",
    "                       color_dict={\"sh\": (0.42,0.267,1), \"ca\":(0.5, 0.5, 0.5), \"rigid\":(0.1, 0.8, 0.)}\n",
    "                    )\n",
    "sim_viewer.view()"
   ]
  },
  {
   "cell_type": "markdown",
   "id": "ceef6130-9d9a-4cf7-a01d-d3ab8e4cc3f8",
   "metadata": {},
   "source": [
    "### 8. end-to-end s close"
   ]
  },
  {
   "cell_type": "code",
   "execution_count": 27,
   "id": "4b6b8db5-f6fa-4ef0-974d-9e7467c990ee",
   "metadata": {},
   "outputs": [
    {
     "name": "stdout",
     "output_type": "stream",
     "text": [
      "potential_energy:  93.65056948899937\n"
     ]
    },
    {
     "data": {
      "image/png": "[encoded data removed]",
      "text/plain": [
       "<fresnel.util.ImageArray at 0x7fdc58423610>"
      ]
     },
     "execution_count": 27,
     "metadata": {},
     "output_type": "execute_result"
    }
   ],
   "source": [
    "q2= rotate_quaternion(rotate_quaternion(q=[1, 0, 0, 0], theta=np.pi/2, axis='y'), theta=np.pi/2, axis='x')\n",
    "q1 =  rotate_quaternion(q2, theta=np.pi, axis='y')\n",
    "rigid_simulation = create_rigid_simulation(orientations=[q1, q2], positions=rigid_pos,\n",
    "                                           n_rigids=n_rigids, rel_const_pos=rel_const_pos,\n",
    "                                          pps_ff=pps_ff)\n",
    "print('potential_energy: ', rigid_simulation.operations.computes[0].potential_energy)\n",
    "hoomd.write.GSD.write(rigid_simulation.state, filename=\"new_snapshots/end-end-s-close.gsd\")\n",
    "# looking down the y axis\n",
    "sim_viewer = FresnelGSD(gsd_file=\"new_snapshots/end-end-s-close.gsd\", view_axis=(0, 1, 0), frame=-1, height=20,\n",
    "                       color_dict={\"sh\": (0.42,0.267,1), \"ca\":(0.5, 0.5, 0.5), \"rigid\":(0.1, 0.8, 0.)}\n",
    "                    )\n",
    "sim_viewer.view()"
   ]
  },
  {
   "cell_type": "markdown",
   "id": "4b8c82b2-2030-4940-8104-79a6b1b812b8",
   "metadata": {},
   "source": [
    "### 9. side-to-end s far"
   ]
  },
  {
   "cell_type": "code",
   "execution_count": 28,
   "id": "a5e4a9e6-8a7b-4c6e-bc23-883ff191cbcd",
   "metadata": {},
   "outputs": [
    {
     "name": "stdout",
     "output_type": "stream",
     "text": [
      "potential_energy:  -1.5810203297767869\n"
     ]
    },
    {
     "data": {
      "image/png": "[encoded data removed]",
      "text/plain": [
       "<fresnel.util.ImageArray at 0x7fdc582c0890>"
      ]
     },
     "execution_count": 28,
     "metadata": {},
     "output_type": "execute_result"
    }
   ],
   "source": [
    "q1 = rotate_quaternion(rotate_quaternion(q=[1, 0, 0, 0], theta=np.pi/2, axis='y'), theta=np.pi/2, axis='x')\n",
    "q2= [1, 0, 0, 0]\n",
    "rigid_simulation = create_rigid_simulation(orientations=[q1, q2], positions=rigid_pos,\n",
    "                                           n_rigids=n_rigids, rel_const_pos=rel_const_pos,\n",
    "                                          pps_ff=pps_ff)\n",
    "print('potential_energy: ', rigid_simulation.operations.computes[0].potential_energy)\n",
    "hoomd.write.GSD.write(rigid_simulation.state, filename=\"new_snapshots/side-end-s-far.gsd\")\n",
    "# looking down the y axis\n",
    "sim_viewer = FresnelGSD(gsd_file=\"new_snapshots/side-end-s-far.gsd\", view_axis=(0, 1, 0), frame=-1, height=20,\n",
    "                       color_dict={\"sh\": (0.42,0.267,1), \"ca\":(0.5, 0.5, 0.5), \"rigid\":(0.1, 0.8, 0.)}\n",
    "                    )\n",
    "sim_viewer.view()"
   ]
  },
  {
   "cell_type": "markdown",
   "id": "3e84b77e-5a2e-4d6d-bace-1a793e2f95ab",
   "metadata": {},
   "source": [
    "### 10. side-to-end s close"
   ]
  },
  {
   "cell_type": "code",
   "execution_count": 98,
   "id": "08bbc5ba-5c06-4ee9-8608-c9bccc8b4324",
   "metadata": {},
   "outputs": [
    {
     "name": "stdout",
     "output_type": "stream",
     "text": [
      "potential_energy:  -1.7724649837669426\n"
     ]
    },
    {
     "data": {
      "image/png": "[encoded data removed]",
      "text/plain": [
       "<fresnel.util.ImageArray at 0x7f653e63cd10>"
      ]
     },
     "execution_count": 98,
     "metadata": {},
     "output_type": "execute_result"
    }
   ],
   "source": [
    "q1 = rotate_quaternion(rotate_quaternion(q=[1, 0, 0, 0], theta=np.pi/2, axis='y'), theta=np.pi/2, axis='x')\n",
    "q1 = rotate_quaternion(q1, theta=np.pi, axis='y')\n",
    "q2= [1, 0, 0, 0]\n",
    "rigid_simulation = create_rigid_simulation(orientations=[q1, q2], positions=rigid_pos,\n",
    "                                           n_rigids=n_rigids, rel_const_pos=rel_const_pos,\n",
    "                                          pps_ff=pps_ff)\n",
    "print('potential_energy: ', rigid_simulation.operations.computes[0].potential_energy)\n",
    "hoomd.write.GSD.write(rigid_simulation.state, filename=\"new_snapshots/side-end-s-close.gsd\")\n",
    "# looking down the y axis\n",
    "sim_viewer = FresnelGSD(gsd_file=\"new_snapshots/side-end-s-close.gsd\", view_axis=(0, 1, 0), frame=-1, height=20,\n",
    "                       color_dict={\"sh\": (0.42,0.267,1), \"ca\":(0.5, 0.5, 0.5), \"rigid\":(0.1, 0.8, 0.)}\n",
    "                    )\n",
    "sim_viewer.view()"
   ]
  },
  {
   "cell_type": "markdown",
   "id": "1560f5c3-0ce4-4d16-b13d-d115de7480b8",
   "metadata": {},
   "source": [
    "### 11. face-to-end s far"
   ]
  },
  {
   "cell_type": "code",
   "execution_count": 100,
   "id": "1a22883a-61de-493c-995c-22f2c611f743",
   "metadata": {},
   "outputs": [
    {
     "name": "stdout",
     "output_type": "stream",
     "text": [
      "potential_energy:  -1.2407235246024881\n"
     ]
    },
    {
     "data": {
      "image/png": "[encoded data removed]",
      "text/plain": [
       "<fresnel.util.ImageArray at 0x7f655855e410>"
      ]
     },
     "execution_count": 100,
     "metadata": {},
     "output_type": "execute_result"
    }
   ],
   "source": [
    "q1 = rotate_quaternion(rotate_quaternion(q=[1, 0, 0, 0], theta=np.pi/2, axis='y'), theta=np.pi/2, axis='x')\n",
    "q2=  rotate_quaternion([1, 0, 0, 0], theta=np.pi/2, axis='z')\n",
    "rigid_simulation = create_rigid_simulation(orientations=[q1, q2], positions=rigid_pos,\n",
    "                                           n_rigids=n_rigids, rel_const_pos=rel_const_pos,\n",
    "                                          pps_ff=pps_ff)\n",
    "print('potential_energy: ', rigid_simulation.operations.computes[0].potential_energy)\n",
    "hoomd.write.GSD.write(rigid_simulation.state, filename=\"new_snapshots/face-end-s-far.gsd\")\n",
    "# looking down the y axis\n",
    "sim_viewer = FresnelGSD(gsd_file=\"new_snapshots/face-end-s-far.gsd\", view_axis=(0, 1, 0), frame=-1, height=20,\n",
    "                       color_dict={\"sh\": (0.42,0.267,1), \"ca\":(0.5, 0.5, 0.5), \"rigid\":(0.1, 0.8, 0.)}\n",
    "                    )\n",
    "sim_viewer.view()"
   ]
  },
  {
   "cell_type": "markdown",
   "id": "91b95ff9-3bfd-4a60-b654-61a69775e58f",
   "metadata": {},
   "source": [
    "### 12. face-to-end s close"
   ]
  },
  {
   "cell_type": "code",
   "execution_count": 102,
   "id": "bd3bd7d4-92b4-48a4-80ea-74023fce7717",
   "metadata": {},
   "outputs": [
    {
     "name": "stdout",
     "output_type": "stream",
     "text": [
      "potential_energy:  -1.466816788062233\n"
     ]
    },
    {
     "data": {
      "image/png": "[encoded data removed]",
      "text/plain": [
       "<fresnel.util.ImageArray at 0x7f653ed4a510>"
      ]
     },
     "execution_count": 102,
     "metadata": {},
     "output_type": "execute_result"
    }
   ],
   "source": [
    "q1 = rotate_quaternion(rotate_quaternion(q=[1, 0, 0, 0], theta=np.pi/2, axis='y'), theta=np.pi/2, axis='x')\n",
    "q1 = rotate_quaternion(q1, theta=np.pi, axis='y')\n",
    "q2 = rotate_quaternion([1, 0, 0, 0], theta=np.pi/2, axis='z')\n",
    "rigid_simulation = create_rigid_simulation(orientations=[q1, q2], positions=rigid_pos,\n",
    "                                           n_rigids=n_rigids, rel_const_pos=rel_const_pos,\n",
    "                                          pps_ff=pps_ff)\n",
    "print('potential_energy: ', rigid_simulation.operations.computes[0].potential_energy)\n",
    "hoomd.write.GSD.write(rigid_simulation.state, filename=\"new_snapshots/face-end-s-close.gsd\")\n",
    "# looking down the y axis\n",
    "sim_viewer = FresnelGSD(gsd_file=\"new_snapshots/face-end-s-close.gsd\", view_axis=(0, 1, 0), frame=-1, height=20,\n",
    "                       color_dict={\"sh\": (0.42,0.267,1), \"ca\":(0.5, 0.5, 0.5), \"rigid\":(0.1, 0.8, 0.)}\n",
    "                    )\n",
    "sim_viewer.view()"
   ]
  },
  {
   "cell_type": "code",
   "execution_count": null,
   "id": "c9a02715-6e6b-4fa6-8c16-252e9a519579",
   "metadata": {},
   "outputs": [],
   "source": []
  }
 ],
 "metadata": {
  "kernelspec": {
   "display_name": "Python 3 (ipykernel)",
   "language": "python",
   "name": "python3"
  },
  "language_info": {
   "codemirror_mode": {
    "name": "ipython",
    "version": 3
   },
   "file_extension": ".py",
   "mimetype": "text/x-python",
   "name": "python",
   "nbconvert_exporter": "python",
   "pygments_lexer": "ipython3",
   "version": "3.11.7"
  }
 },
 "nbformat": 4,
 "nbformat_minor": 5
}
